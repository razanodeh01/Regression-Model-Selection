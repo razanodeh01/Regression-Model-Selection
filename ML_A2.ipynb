{
  "cells": [
    {
      "cell_type": "markdown",
      "metadata": {
        "id": "B9IgtOGKZWwB"
      },
      "source": [
        "![bzu.png](data:image/png;base64,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)\n",
        "\n",
        "**Department of Electrical & Computer Engineering**\n",
        "\n",
        "\n",
        "**First Semester, 2024/2025**\n",
        "\n",
        "**Machine Learning and Data Science ‐ ENCS5341**\n",
        "\n",
        "**Assignment 2 : Regression Analysis and Model Selection**\n",
        "\n",
        "\n",
        "---\n",
        "\n",
        "```\n",
        " Hidaya Mustafa - 1201910\n",
        " Razan Abdalrahman - 1200531\n",
        "```\n",
        "\n",
        "\n",
        "\n",
        "\n"
      ]
    },
    {
      "cell_type": "markdown",
      "source": [
        "The main goal of this assignment is to build and evaluate regression models to predict car prices using features like engine capacity, horsepower, brand, and country. Predicting car prices is a key challenge in the automotive industry, helping manufacturers, dealers, and buyers understand market trends and make informed decisions.\n",
        "\n",
        "This task requires analyzing how various features influence car prices, from performance metrics like horsepower to brand perception and regional factors. Along the way, we focus on essential steps like cleaning and preparing the data, selecting relevant features, and tuning models for accuracy. By implementing both linear (e.g., closed-form and gradient descent) and nonlinear models (e.g., polynomial regression and Radial Basis Function), the assignment demonstrates the power of machine learning in tackling real-world problems.\n"
      ],
      "metadata": {
        "id": "KWe8L5KIlSXs"
      }
    },
    {
      "cell_type": "code",
      "execution_count": 113,
      "metadata": {
        "colab": {
          "base_uri": "https://localhost:8080/"
        },
        "id": "0O5YwqsbsC5E",
        "outputId": "b6b80b59-1bba-413a-b54c-f1dc1a24d93e"
      },
      "outputs": [
        {
          "output_type": "stream",
          "name": "stdout",
          "text": [
            "Drive already mounted at /content/drive; to attempt to forcibly remount, call drive.mount(\"/content/drive\", force_remount=True).\n"
          ]
        }
      ],
      "source": [
        "from google.colab import drive\n",
        "drive.mount('/content/drive')"
      ]
    },
    {
      "cell_type": "markdown",
      "metadata": {
        "id": "-o5O7M6Nec-H"
      },
      "source": [
        "# **Project Overview**."
      ]
    },
    {
      "cell_type": "markdown",
      "metadata": {
        "id": "xakEb57meUQV"
      },
      "source": [
        "The objective of this project is to build a series of regression models using a dataset, evaluate and compare their performance, and apply various techniques to improve model accuracy and prevent overfitting. The focus will be on both linear and nonlinear regression models. We will also use feature selection methods and regularization techniques, followed by hyperparameter tuning, to select the optimal model."
      ]
    },
    {
      "cell_type": "markdown",
      "metadata": {
        "id": "FoK6izXFZDGO"
      },
      "source": [
        "# **Librarys**."
      ]
    },
    {
      "cell_type": "markdown",
      "metadata": {
        "id": "TpjA0oVrRFeG"
      },
      "source": [
        "For this project, we used the following libraries to perform data preprocessing, model implementation, and evaluation."
      ]
    },
    {
      "cell_type": "code",
      "execution_count": 114,
      "metadata": {
        "collapsed": true,
        "id": "sbosEhEVY63N"
      },
      "outputs": [],
      "source": [
        "# ! pip install pandas\n",
        "import pandas\n",
        "import pandas as pd\n",
        "import numpy as np\n",
        "import re\n",
        "from matplotlib import rcParams\n",
        "import matplotlib.pyplot as plt\n",
        "from sklearn.preprocessing import StandardScaler\n",
        "import seaborn as sns\n",
        "from sklearn.preprocessing import OneHotEncoder\n",
        "from sklearn.preprocessing import LabelEncoder\n",
        "from sklearn.model_selection import train_test_split\n",
        "from sklearn.linear_model import Lasso\n",
        "from sklearn.linear_model import Ridge\n",
        "from sklearn.model_selection import GridSearchCV\n",
        "from sklearn.linear_model import LinearRegression\n",
        "from sklearn.preprocessing import PolynomialFeatures\n",
        "from sklearn.metrics import mean_squared_error, mean_absolute_error, r2_score\n",
        "from sklearn.svm import SVR\n",
        "from sklearn.pipeline import Pipeline\n"
      ]
    },
    {
      "cell_type": "markdown",
      "metadata": {
        "id": "tuNNMKfOZLT3"
      },
      "source": [
        "# 1**. Dataset**."
      ]
    },
    {
      "cell_type": "markdown",
      "metadata": {
        "id": "3wLDQdDy5o25"
      },
      "source": [
        "### 1.1 Dataset overview."
      ]
    },
    {
      "cell_type": "code",
      "execution_count": 115,
      "metadata": {
        "colab": {
          "base_uri": "https://localhost:8080/",
          "height": 424
        },
        "collapsed": true,
        "id": "5DfnTMC-aRSB",
        "outputId": "95f53830-c4ce-4e9a-b3c0-5058c057a86f"
      },
      "outputs": [
        {
          "output_type": "execute_result",
          "data": {
            "text/plain": [
              "                                               car name                 price  \\\n",
              "0                               Fiat 500e 2021 La Prima                   TBD   \n",
              "1                         Peugeot Traveller 2021 L3 VIP           SAR 140,575   \n",
              "2                      Suzuki Jimny 2021 1.5L Automatic            SAR 98,785   \n",
              "3                        Ford Bronco 2021 2.3T Big Bend           SAR 198,000   \n",
              "4                         Honda HR-V 2021 1.8 i-VTEC LX  Orangeburst Metallic   \n",
              "...                                                 ...                   ...   \n",
              "6303  Bentley Mulsanne 2021 6.75L V8 Extended Wheelbase          DISCONTINUED   \n",
              "6304  Ferrari SF90 Stradale 2021 4.0T V8 Plug-in-Hybrid         AED 1,766,100   \n",
              "6305                  Rolls Royce Wraith 2021 6.6L Base         AED 1,400,000   \n",
              "6306        Lamborghini Aventador S 2021 6.5L V12 Coupe         AED 1,650,000   \n",
              "6307               Bentley Mulsanne 2021 6.75L V8 Speed          DISCONTINUED   \n",
              "\n",
              "     engine_capacity       cylinder horse_power  top_speed      seats  \\\n",
              "0                0.0  N/A, Electric      Single  Automatic        150   \n",
              "1                2.0              4         180   8 Seater        8.8   \n",
              "2                1.5              4         102        145   4 Seater   \n",
              "3                2.3              4         420   4 Seater        7.5   \n",
              "4                1.8              4         140        190   5 Seater   \n",
              "...              ...            ...         ...        ...        ...   \n",
              "6303             6.8              8         505        296   5 Seater   \n",
              "6304             4.0              8          25        800  Automatic   \n",
              "6305             6.6             12         624        250   4 Seater   \n",
              "6306             6.5            NaN         740        350   2 Seater   \n",
              "6307             6.8              8         530        305   5 Seater   \n",
              "\n",
              "            brand country  \n",
              "0            fiat     ksa  \n",
              "1         peugeot     ksa  \n",
              "2          suzuki     ksa  \n",
              "3            ford     ksa  \n",
              "4           honda     ksa  \n",
              "...           ...     ...  \n",
              "6303      bentley     uae  \n",
              "6304      ferrari     uae  \n",
              "6305  rolls-royce     uae  \n",
              "6306  lamborghini     uae  \n",
              "6307      bentley     uae  \n",
              "\n",
              "[6308 rows x 9 columns]"
            ],
            "text/html": [
              "\n",
              "  <div id=\"df-596e62e8-0c80-4be9-8dde-5b4fda8826c0\" class=\"colab-df-container\">\n",
              "    <div>\n",
              "<style scoped>\n",
              "    .dataframe tbody tr th:only-of-type {\n",
              "        vertical-align: middle;\n",
              "    }\n",
              "\n",
              "    .dataframe tbody tr th {\n",
              "        vertical-align: top;\n",
              "    }\n",
              "\n",
              "    .dataframe thead th {\n",
              "        text-align: right;\n",
              "    }\n",
              "</style>\n",
              "<table border=\"1\" class=\"dataframe\">\n",
              "  <thead>\n",
              "    <tr style=\"text-align: right;\">\n",
              "      <th></th>\n",
              "      <th>car name</th>\n",
              "      <th>price</th>\n",
              "      <th>engine_capacity</th>\n",
              "      <th>cylinder</th>\n",
              "      <th>horse_power</th>\n",
              "      <th>top_speed</th>\n",
              "      <th>seats</th>\n",
              "      <th>brand</th>\n",
              "      <th>country</th>\n",
              "    </tr>\n",
              "  </thead>\n",
              "  <tbody>\n",
              "    <tr>\n",
              "      <th>0</th>\n",
              "      <td>Fiat 500e 2021 La Prima</td>\n",
              "      <td>TBD</td>\n",
              "      <td>0.0</td>\n",
              "      <td>N/A, Electric</td>\n",
              "      <td>Single</td>\n",
              "      <td>Automatic</td>\n",
              "      <td>150</td>\n",
              "      <td>fiat</td>\n",
              "      <td>ksa</td>\n",
              "    </tr>\n",
              "    <tr>\n",
              "      <th>1</th>\n",
              "      <td>Peugeot Traveller 2021 L3 VIP</td>\n",
              "      <td>SAR 140,575</td>\n",
              "      <td>2.0</td>\n",
              "      <td>4</td>\n",
              "      <td>180</td>\n",
              "      <td>8 Seater</td>\n",
              "      <td>8.8</td>\n",
              "      <td>peugeot</td>\n",
              "      <td>ksa</td>\n",
              "    </tr>\n",
              "    <tr>\n",
              "      <th>2</th>\n",
              "      <td>Suzuki Jimny 2021 1.5L Automatic</td>\n",
              "      <td>SAR 98,785</td>\n",
              "      <td>1.5</td>\n",
              "      <td>4</td>\n",
              "      <td>102</td>\n",
              "      <td>145</td>\n",
              "      <td>4 Seater</td>\n",
              "      <td>suzuki</td>\n",
              "      <td>ksa</td>\n",
              "    </tr>\n",
              "    <tr>\n",
              "      <th>3</th>\n",
              "      <td>Ford Bronco 2021 2.3T Big Bend</td>\n",
              "      <td>SAR 198,000</td>\n",
              "      <td>2.3</td>\n",
              "      <td>4</td>\n",
              "      <td>420</td>\n",
              "      <td>4 Seater</td>\n",
              "      <td>7.5</td>\n",
              "      <td>ford</td>\n",
              "      <td>ksa</td>\n",
              "    </tr>\n",
              "    <tr>\n",
              "      <th>4</th>\n",
              "      <td>Honda HR-V 2021 1.8 i-VTEC LX</td>\n",
              "      <td>Orangeburst Metallic</td>\n",
              "      <td>1.8</td>\n",
              "      <td>4</td>\n",
              "      <td>140</td>\n",
              "      <td>190</td>\n",
              "      <td>5 Seater</td>\n",
              "      <td>honda</td>\n",
              "      <td>ksa</td>\n",
              "    </tr>\n",
              "    <tr>\n",
              "      <th>...</th>\n",
              "      <td>...</td>\n",
              "      <td>...</td>\n",
              "      <td>...</td>\n",
              "      <td>...</td>\n",
              "      <td>...</td>\n",
              "      <td>...</td>\n",
              "      <td>...</td>\n",
              "      <td>...</td>\n",
              "      <td>...</td>\n",
              "    </tr>\n",
              "    <tr>\n",
              "      <th>6303</th>\n",
              "      <td>Bentley Mulsanne 2021 6.75L V8 Extended Wheelbase</td>\n",
              "      <td>DISCONTINUED</td>\n",
              "      <td>6.8</td>\n",
              "      <td>8</td>\n",
              "      <td>505</td>\n",
              "      <td>296</td>\n",
              "      <td>5 Seater</td>\n",
              "      <td>bentley</td>\n",
              "      <td>uae</td>\n",
              "    </tr>\n",
              "    <tr>\n",
              "      <th>6304</th>\n",
              "      <td>Ferrari SF90 Stradale 2021 4.0T V8 Plug-in-Hybrid</td>\n",
              "      <td>AED 1,766,100</td>\n",
              "      <td>4.0</td>\n",
              "      <td>8</td>\n",
              "      <td>25</td>\n",
              "      <td>800</td>\n",
              "      <td>Automatic</td>\n",
              "      <td>ferrari</td>\n",
              "      <td>uae</td>\n",
              "    </tr>\n",
              "    <tr>\n",
              "      <th>6305</th>\n",
              "      <td>Rolls Royce Wraith 2021 6.6L Base</td>\n",
              "      <td>AED 1,400,000</td>\n",
              "      <td>6.6</td>\n",
              "      <td>12</td>\n",
              "      <td>624</td>\n",
              "      <td>250</td>\n",
              "      <td>4 Seater</td>\n",
              "      <td>rolls-royce</td>\n",
              "      <td>uae</td>\n",
              "    </tr>\n",
              "    <tr>\n",
              "      <th>6306</th>\n",
              "      <td>Lamborghini Aventador S 2021 6.5L V12 Coupe</td>\n",
              "      <td>AED 1,650,000</td>\n",
              "      <td>6.5</td>\n",
              "      <td>NaN</td>\n",
              "      <td>740</td>\n",
              "      <td>350</td>\n",
              "      <td>2 Seater</td>\n",
              "      <td>lamborghini</td>\n",
              "      <td>uae</td>\n",
              "    </tr>\n",
              "    <tr>\n",
              "      <th>6307</th>\n",
              "      <td>Bentley Mulsanne 2021 6.75L V8 Speed</td>\n",
              "      <td>DISCONTINUED</td>\n",
              "      <td>6.8</td>\n",
              "      <td>8</td>\n",
              "      <td>530</td>\n",
              "      <td>305</td>\n",
              "      <td>5 Seater</td>\n",
              "      <td>bentley</td>\n",
              "      <td>uae</td>\n",
              "    </tr>\n",
              "  </tbody>\n",
              "</table>\n",
              "<p>6308 rows × 9 columns</p>\n",
              "</div>\n",
              "    <div class=\"colab-df-buttons\">\n",
              "\n",
              "  <div class=\"colab-df-container\">\n",
              "    <button class=\"colab-df-convert\" onclick=\"convertToInteractive('df-596e62e8-0c80-4be9-8dde-5b4fda8826c0')\"\n",
              "            title=\"Convert this dataframe to an interactive table.\"\n",
              "            style=\"display:none;\">\n",
              "\n",
              "  <svg xmlns=\"http://www.w3.org/2000/svg\" height=\"24px\" viewBox=\"0 -960 960 960\">\n",
              "    <path d=\"M120-120v-720h720v720H120Zm60-500h600v-160H180v160Zm220 220h160v-160H400v160Zm0 220h160v-160H400v160ZM180-400h160v-160H180v160Zm440 0h160v-160H620v160ZM180-180h160v-160H180v160Zm440 0h160v-160H620v160Z\"/>\n",
              "  </svg>\n",
              "    </button>\n",
              "\n",
              "  <style>\n",
              "    .colab-df-container {\n",
              "      display:flex;\n",
              "      gap: 12px;\n",
              "    }\n",
              "\n",
              "    .colab-df-convert {\n",
              "      background-color: #E8F0FE;\n",
              "      border: none;\n",
              "      border-radius: 50%;\n",
              "      cursor: pointer;\n",
              "      display: none;\n",
              "      fill: #1967D2;\n",
              "      height: 32px;\n",
              "      padding: 0 0 0 0;\n",
              "      width: 32px;\n",
              "    }\n",
              "\n",
              "    .colab-df-convert:hover {\n",
              "      background-color: #E2EBFA;\n",
              "      box-shadow: 0px 1px 2px rgba(60, 64, 67, 0.3), 0px 1px 3px 1px rgba(60, 64, 67, 0.15);\n",
              "      fill: #174EA6;\n",
              "    }\n",
              "\n",
              "    .colab-df-buttons div {\n",
              "      margin-bottom: 4px;\n",
              "    }\n",
              "\n",
              "    [theme=dark] .colab-df-convert {\n",
              "      background-color: #3B4455;\n",
              "      fill: #D2E3FC;\n",
              "    }\n",
              "\n",
              "    [theme=dark] .colab-df-convert:hover {\n",
              "      background-color: #434B5C;\n",
              "      box-shadow: 0px 1px 3px 1px rgba(0, 0, 0, 0.15);\n",
              "      filter: drop-shadow(0px 1px 2px rgba(0, 0, 0, 0.3));\n",
              "      fill: #FFFFFF;\n",
              "    }\n",
              "  </style>\n",
              "\n",
              "    <script>\n",
              "      const buttonEl =\n",
              "        document.querySelector('#df-596e62e8-0c80-4be9-8dde-5b4fda8826c0 button.colab-df-convert');\n",
              "      buttonEl.style.display =\n",
              "        google.colab.kernel.accessAllowed ? 'block' : 'none';\n",
              "\n",
              "      async function convertToInteractive(key) {\n",
              "        const element = document.querySelector('#df-596e62e8-0c80-4be9-8dde-5b4fda8826c0');\n",
              "        const dataTable =\n",
              "          await google.colab.kernel.invokeFunction('convertToInteractive',\n",
              "                                                    [key], {});\n",
              "        if (!dataTable) return;\n",
              "\n",
              "        const docLinkHtml = 'Like what you see? Visit the ' +\n",
              "          '<a target=\"_blank\" href=https://colab.research.google.com/notebooks/data_table.ipynb>data table notebook</a>'\n",
              "          + ' to learn more about interactive tables.';\n",
              "        element.innerHTML = '';\n",
              "        dataTable['output_type'] = 'display_data';\n",
              "        await google.colab.output.renderOutput(dataTable, element);\n",
              "        const docLink = document.createElement('div');\n",
              "        docLink.innerHTML = docLinkHtml;\n",
              "        element.appendChild(docLink);\n",
              "      }\n",
              "    </script>\n",
              "  </div>\n",
              "\n",
              "\n",
              "<div id=\"df-bf08d19f-8a3b-4f84-932e-228f9681ce3f\">\n",
              "  <button class=\"colab-df-quickchart\" onclick=\"quickchart('df-bf08d19f-8a3b-4f84-932e-228f9681ce3f')\"\n",
              "            title=\"Suggest charts\"\n",
              "            style=\"display:none;\">\n",
              "\n",
              "<svg xmlns=\"http://www.w3.org/2000/svg\" height=\"24px\"viewBox=\"0 0 24 24\"\n",
              "     width=\"24px\">\n",
              "    <g>\n",
              "        <path d=\"M19 3H5c-1.1 0-2 .9-2 2v14c0 1.1.9 2 2 2h14c1.1 0 2-.9 2-2V5c0-1.1-.9-2-2-2zM9 17H7v-7h2v7zm4 0h-2V7h2v10zm4 0h-2v-4h2v4z\"/>\n",
              "    </g>\n",
              "</svg>\n",
              "  </button>\n",
              "\n",
              "<style>\n",
              "  .colab-df-quickchart {\n",
              "      --bg-color: #E8F0FE;\n",
              "      --fill-color: #1967D2;\n",
              "      --hover-bg-color: #E2EBFA;\n",
              "      --hover-fill-color: #174EA6;\n",
              "      --disabled-fill-color: #AAA;\n",
              "      --disabled-bg-color: #DDD;\n",
              "  }\n",
              "\n",
              "  [theme=dark] .colab-df-quickchart {\n",
              "      --bg-color: #3B4455;\n",
              "      --fill-color: #D2E3FC;\n",
              "      --hover-bg-color: #434B5C;\n",
              "      --hover-fill-color: #FFFFFF;\n",
              "      --disabled-bg-color: #3B4455;\n",
              "      --disabled-fill-color: #666;\n",
              "  }\n",
              "\n",
              "  .colab-df-quickchart {\n",
              "    background-color: var(--bg-color);\n",
              "    border: none;\n",
              "    border-radius: 50%;\n",
              "    cursor: pointer;\n",
              "    display: none;\n",
              "    fill: var(--fill-color);\n",
              "    height: 32px;\n",
              "    padding: 0;\n",
              "    width: 32px;\n",
              "  }\n",
              "\n",
              "  .colab-df-quickchart:hover {\n",
              "    background-color: var(--hover-bg-color);\n",
              "    box-shadow: 0 1px 2px rgba(60, 64, 67, 0.3), 0 1px 3px 1px rgba(60, 64, 67, 0.15);\n",
              "    fill: var(--button-hover-fill-color);\n",
              "  }\n",
              "\n",
              "  .colab-df-quickchart-complete:disabled,\n",
              "  .colab-df-quickchart-complete:disabled:hover {\n",
              "    background-color: var(--disabled-bg-color);\n",
              "    fill: var(--disabled-fill-color);\n",
              "    box-shadow: none;\n",
              "  }\n",
              "\n",
              "  .colab-df-spinner {\n",
              "    border: 2px solid var(--fill-color);\n",
              "    border-color: transparent;\n",
              "    border-bottom-color: var(--fill-color);\n",
              "    animation:\n",
              "      spin 1s steps(1) infinite;\n",
              "  }\n",
              "\n",
              "  @keyframes spin {\n",
              "    0% {\n",
              "      border-color: transparent;\n",
              "      border-bottom-color: var(--fill-color);\n",
              "      border-left-color: var(--fill-color);\n",
              "    }\n",
              "    20% {\n",
              "      border-color: transparent;\n",
              "      border-left-color: var(--fill-color);\n",
              "      border-top-color: var(--fill-color);\n",
              "    }\n",
              "    30% {\n",
              "      border-color: transparent;\n",
              "      border-left-color: var(--fill-color);\n",
              "      border-top-color: var(--fill-color);\n",
              "      border-right-color: var(--fill-color);\n",
              "    }\n",
              "    40% {\n",
              "      border-color: transparent;\n",
              "      border-right-color: var(--fill-color);\n",
              "      border-top-color: var(--fill-color);\n",
              "    }\n",
              "    60% {\n",
              "      border-color: transparent;\n",
              "      border-right-color: var(--fill-color);\n",
              "    }\n",
              "    80% {\n",
              "      border-color: transparent;\n",
              "      border-right-color: var(--fill-color);\n",
              "      border-bottom-color: var(--fill-color);\n",
              "    }\n",
              "    90% {\n",
              "      border-color: transparent;\n",
              "      border-bottom-color: var(--fill-color);\n",
              "    }\n",
              "  }\n",
              "</style>\n",
              "\n",
              "  <script>\n",
              "    async function quickchart(key) {\n",
              "      const quickchartButtonEl =\n",
              "        document.querySelector('#' + key + ' button');\n",
              "      quickchartButtonEl.disabled = true;  // To prevent multiple clicks.\n",
              "      quickchartButtonEl.classList.add('colab-df-spinner');\n",
              "      try {\n",
              "        const charts = await google.colab.kernel.invokeFunction(\n",
              "            'suggestCharts', [key], {});\n",
              "      } catch (error) {\n",
              "        console.error('Error during call to suggestCharts:', error);\n",
              "      }\n",
              "      quickchartButtonEl.classList.remove('colab-df-spinner');\n",
              "      quickchartButtonEl.classList.add('colab-df-quickchart-complete');\n",
              "    }\n",
              "    (() => {\n",
              "      let quickchartButtonEl =\n",
              "        document.querySelector('#df-bf08d19f-8a3b-4f84-932e-228f9681ce3f button');\n",
              "      quickchartButtonEl.style.display =\n",
              "        google.colab.kernel.accessAllowed ? 'block' : 'none';\n",
              "    })();\n",
              "  </script>\n",
              "</div>\n",
              "\n",
              "  <div id=\"id_aae59de1-20a1-4e28-9195-70bf247c2e58\">\n",
              "    <style>\n",
              "      .colab-df-generate {\n",
              "        background-color: #E8F0FE;\n",
              "        border: none;\n",
              "        border-radius: 50%;\n",
              "        cursor: pointer;\n",
              "        display: none;\n",
              "        fill: #1967D2;\n",
              "        height: 32px;\n",
              "        padding: 0 0 0 0;\n",
              "        width: 32px;\n",
              "      }\n",
              "\n",
              "      .colab-df-generate:hover {\n",
              "        background-color: #E2EBFA;\n",
              "        box-shadow: 0px 1px 2px rgba(60, 64, 67, 0.3), 0px 1px 3px 1px rgba(60, 64, 67, 0.15);\n",
              "        fill: #174EA6;\n",
              "      }\n",
              "\n",
              "      [theme=dark] .colab-df-generate {\n",
              "        background-color: #3B4455;\n",
              "        fill: #D2E3FC;\n",
              "      }\n",
              "\n",
              "      [theme=dark] .colab-df-generate:hover {\n",
              "        background-color: #434B5C;\n",
              "        box-shadow: 0px 1px 3px 1px rgba(0, 0, 0, 0.15);\n",
              "        filter: drop-shadow(0px 1px 2px rgba(0, 0, 0, 0.3));\n",
              "        fill: #FFFFFF;\n",
              "      }\n",
              "    </style>\n",
              "    <button class=\"colab-df-generate\" onclick=\"generateWithVariable('df')\"\n",
              "            title=\"Generate code using this dataframe.\"\n",
              "            style=\"display:none;\">\n",
              "\n",
              "  <svg xmlns=\"http://www.w3.org/2000/svg\" height=\"24px\"viewBox=\"0 0 24 24\"\n",
              "       width=\"24px\">\n",
              "    <path d=\"M7,19H8.4L18.45,9,17,7.55,7,17.6ZM5,21V16.75L18.45,3.32a2,2,0,0,1,2.83,0l1.4,1.43a1.91,1.91,0,0,1,.58,1.4,1.91,1.91,0,0,1-.58,1.4L9.25,21ZM18.45,9,17,7.55Zm-12,3A5.31,5.31,0,0,0,4.9,8.1,5.31,5.31,0,0,0,1,6.5,5.31,5.31,0,0,0,4.9,4.9,5.31,5.31,0,0,0,6.5,1,5.31,5.31,0,0,0,8.1,4.9,5.31,5.31,0,0,0,12,6.5,5.46,5.46,0,0,0,6.5,12Z\"/>\n",
              "  </svg>\n",
              "    </button>\n",
              "    <script>\n",
              "      (() => {\n",
              "      const buttonEl =\n",
              "        document.querySelector('#id_aae59de1-20a1-4e28-9195-70bf247c2e58 button.colab-df-generate');\n",
              "      buttonEl.style.display =\n",
              "        google.colab.kernel.accessAllowed ? 'block' : 'none';\n",
              "\n",
              "      buttonEl.onclick = () => {\n",
              "        google.colab.notebook.generateWithVariable('df');\n",
              "      }\n",
              "      })();\n",
              "    </script>\n",
              "  </div>\n",
              "\n",
              "    </div>\n",
              "  </div>\n"
            ],
            "application/vnd.google.colaboratory.intrinsic+json": {
              "type": "dataframe",
              "variable_name": "df",
              "summary": "{\n  \"name\": \"df\",\n  \"rows\": 6308,\n  \"fields\": [\n    {\n      \"column\": \"car name\",\n      \"properties\": {\n        \"dtype\": \"category\",\n        \"num_unique_values\": 2546,\n        \"samples\": [\n          \"Volvo XC60 2021 2.0T T5 FWD Momentum\",\n          \"Ford Explorer 2021 3.5L V6 Base\",\n          \"Volvo XC60 2021 2.0T T5 AWD Inscription\"\n        ],\n        \"semantic_type\": \"\",\n        \"description\": \"\"\n      }\n    },\n    {\n      \"column\": \"price\",\n      \"properties\": {\n        \"dtype\": \"string\",\n        \"num_unique_values\": 3395,\n        \"samples\": [\n          \"SAR 85,215\",\n          \"AED 905,000\",\n          \"OMR 20,050\"\n        ],\n        \"semantic_type\": \"\",\n        \"description\": \"\"\n      }\n    },\n    {\n      \"column\": \"engine_capacity\",\n      \"properties\": {\n        \"dtype\": \"category\",\n        \"num_unique_values\": 129,\n        \"samples\": [\n          \"1500\",\n          \"4.7\",\n          \"2.4\"\n        ],\n        \"semantic_type\": \"\",\n        \"description\": \"\"\n      }\n    },\n    {\n      \"column\": \"cylinder\",\n      \"properties\": {\n        \"dtype\": \"category\",\n        \"num_unique_values\": 10,\n        \"samples\": [\n          \"16\",\n          \"4\",\n          \"3\"\n        ],\n        \"semantic_type\": \"\",\n        \"description\": \"\"\n      }\n    },\n    {\n      \"column\": \"horse_power\",\n      \"properties\": {\n        \"dtype\": \"category\",\n        \"num_unique_values\": 330,\n        \"samples\": [\n          \"198\",\n          \"235\",\n          \"153\"\n        ],\n        \"semantic_type\": \"\",\n        \"description\": \"\"\n      }\n    },\n    {\n      \"column\": \"top_speed\",\n      \"properties\": {\n        \"dtype\": \"category\",\n        \"num_unique_values\": 169,\n        \"samples\": [\n          \"213\",\n          \"175\",\n          \"288\"\n        ],\n        \"semantic_type\": \"\",\n        \"description\": \"\"\n      }\n    },\n    {\n      \"column\": \"seats\",\n      \"properties\": {\n        \"dtype\": \"category\",\n        \"num_unique_values\": 82,\n        \"samples\": [\n          \"11.0\",\n          \"150\",\n          \"11\"\n        ],\n        \"semantic_type\": \"\",\n        \"description\": \"\"\n      }\n    },\n    {\n      \"column\": \"brand\",\n      \"properties\": {\n        \"dtype\": \"category\",\n        \"num_unique_values\": 82,\n        \"samples\": [\n          \"infiniti\",\n          \"fiat\",\n          \"lamborghini\"\n        ],\n        \"semantic_type\": \"\",\n        \"description\": \"\"\n      }\n    },\n    {\n      \"column\": \"country\",\n      \"properties\": {\n        \"dtype\": \"category\",\n        \"num_unique_values\": 7,\n        \"samples\": [\n          \"ksa\",\n          \"egypt\",\n          \"kuwait\"\n        ],\n        \"semantic_type\": \"\",\n        \"description\": \"\"\n      }\n    }\n  ]\n}"
            }
          },
          "metadata": {},
          "execution_count": 115
        }
      ],
      "source": [
        "df = pd.read_csv('/content/drive/MyDrive/cars.csv')\n",
        "df"
      ]
    },
    {
      "cell_type": "markdown",
      "metadata": {
        "id": "t5VTBcZ1vtp3"
      },
      "source": [
        "The provided dataset includes ***car*** details scraped from the YallaMotors website, containing approximately ***6,750 rows*** and ***9 columns***. It is designed for tasks such as Exploratory Data Analysis **(EDA)** and machine learning, particularly for predicting car prices.\n",
        "\n",
        "***Columns:***\n",
        "\n",
        "*   **car name:** Name and description of the car.\n",
        "*   **price:** The price of the car (target variable for regression).\n",
        "*   **engine_capacity:** Engine size in liters.\n",
        "*   **cylinder:** Number of cylinders or fuel type (e.g., Electric).\n",
        "*   **horse_power:** Horsepower details.\n",
        "*   **top_speed:** Top speed or seating capacity information.\n",
        "*   **seats:** Number of seats.\n",
        "*   **brand:** Car manufacturer (e.g., Toyota, Hyundai).\n",
        "*   **country:** Country information, mostly \"ksa\".\n",
        "\n"
      ]
    },
    {
      "cell_type": "code",
      "execution_count": 116,
      "metadata": {
        "colab": {
          "base_uri": "https://localhost:8080/"
        },
        "collapsed": true,
        "id": "C8669sWHe4RN",
        "outputId": "18d816a7-377e-41b7-a0af-5ced78d26370"
      },
      "outputs": [
        {
          "output_type": "stream",
          "name": "stdout",
          "text": [
            "<class 'pandas.core.frame.DataFrame'>\n",
            "RangeIndex: 6308 entries, 0 to 6307\n",
            "Data columns (total 9 columns):\n",
            " #   Column           Non-Null Count  Dtype \n",
            "---  ------           --------------  ----- \n",
            " 0   car name         6308 non-null   object\n",
            " 1   price            6308 non-null   object\n",
            " 2   engine_capacity  6308 non-null   object\n",
            " 3   cylinder         5684 non-null   object\n",
            " 4   horse_power      6308 non-null   object\n",
            " 5   top_speed        6308 non-null   object\n",
            " 6   seats            6308 non-null   object\n",
            " 7   brand            6308 non-null   object\n",
            " 8   country          6308 non-null   object\n",
            "dtypes: object(9)\n",
            "memory usage: 443.7+ KB\n"
          ]
        }
      ],
      "source": [
        "df.info()"
      ]
    },
    {
      "cell_type": "markdown",
      "metadata": {
        "id": "I6RDlysNS1TX"
      },
      "source": [
        "To make our work more structured and efficient, we divided the dataset into **categorical** and **numerical** features."
      ]
    },
    {
      "cell_type": "code",
      "execution_count": 117,
      "metadata": {
        "id": "RAQT6vdakHAH"
      },
      "outputs": [],
      "source": [
        "cat_columns = ['car name', 'price' , 'brand' , 'country']\n",
        "num_columns = ['engine_capacity' , 'top_speed','horse_power' ]"
      ]
    },
    {
      "cell_type": "markdown",
      "metadata": {
        "id": "fbNhOQE2ab56"
      },
      "source": [
        "\n",
        "\n",
        "---\n",
        "\n"
      ]
    },
    {
      "cell_type": "markdown",
      "metadata": {
        "id": "_RTdxbNsfL6L"
      },
      "source": [
        "##1.2 **Dataset Preprocessing Steps.**"
      ]
    },
    {
      "cell_type": "markdown",
      "metadata": {
        "id": "g3zngBHHS9JD"
      },
      "source": [
        "To prepare the dataset for building regression models, we performed the following preprocessing steps."
      ]
    },
    {
      "cell_type": "markdown",
      "metadata": {
        "id": "LJw8_iAHfXt3"
      },
      "source": [
        "### 1.2.1 Handling missing values."
      ]
    },
    {
      "cell_type": "markdown",
      "metadata": {
        "id": "zsOxgCx0zwdL"
      },
      "source": [
        "Handling missing values is an essential step in data preprocessing to ensure data quality. We identify and address missing or inconsistent values (e.g., \"TBD\" or \"N/A\") by replacing them with NaN for consistency. Depending on the situation, we either drop rows/columns with substantial missing data or fill the gaps using strategies like imputation (mean, median, or mode) to maintain the dataset's integrity."
      ]
    },
    {
      "cell_type": "markdown",
      "metadata": {
        "id": "cs5jNG86V0ZA"
      },
      "source": [
        "\n",
        "\n",
        "---\n",
        "\n"
      ]
    },
    {
      "cell_type": "markdown",
      "metadata": {
        "id": "z4KX8Q6TVOXx"
      },
      "source": [
        "\n",
        "The seats column contains missing or inconsistent values, including entries found in the top_speed column that contain seating information (e.g., \"8 Seater\"). To clean this data, seating information was extracted from the top_speed column where applicable. The \"Seater\" text was removed, and the cleaned values were converted into integers. Any remaining missing or invalid values were handled by coercing them into NaN, ensuring the seats column contains only valid numerical data."
      ]
    },
    {
      "cell_type": "code",
      "execution_count": 118,
      "metadata": {
        "colab": {
          "base_uri": "https://localhost:8080/"
        },
        "id": "ZZ8PiAPN9BdA",
        "outputId": "f659a1b9-6d40-4d53-bb0b-8eefecb535d9"
      },
      "outputs": [
        {
          "output_type": "stream",
          "name": "stdout",
          "text": [
            "0        150\n",
            "1          8\n",
            "2          4\n",
            "3          4\n",
            "4          5\n",
            "        ... \n",
            "6303       5\n",
            "6304    <NA>\n",
            "6305       4\n",
            "6306       2\n",
            "6307       5\n",
            "Name: seats, Length: 6308, dtype: Int64\n"
          ]
        }
      ],
      "source": [
        "# Clean the seats column.\n",
        "\n",
        "# 1. Replace missing or inconsistent values in 'seats' with values from 'top_speed' if they contain seating info.\n",
        "df['seats'] = df['top_speed'].where(df['top_speed'].str.contains('Seater', na=False), df['seats'])\n",
        "\n",
        "# 2. Remove the text \"Seater\" and strip any extra spaces.\n",
        "df['seats'] = df['seats'].str.replace('Seater', '', regex=False).str.strip()\n",
        "\n",
        "# 3. Convert the cleaned 'seats' column to numeric, coercing errors to NaN.\n",
        "df['seats'] = pd.to_numeric(df['seats'], errors='coerce')\n",
        "\n",
        "# 4. Round values and convert to integer, allowing NaNs for invalid data.\n",
        "df['seats'] = df['seats'].round().astype('Int64')\n",
        "\n",
        "print(df['seats'])"
      ]
    },
    {
      "cell_type": "markdown",
      "metadata": {
        "id": "n117LBj4VX47"
      },
      "source": [
        "The seats column now contains clean numerical values representing the number of seats in each car."
      ]
    },
    {
      "cell_type": "markdown",
      "metadata": {
        "id": "YxQ_0NuMV2v3"
      },
      "source": [
        "\n",
        "\n",
        "---\n",
        "\n"
      ]
    },
    {
      "cell_type": "markdown",
      "metadata": {
        "id": "S2YrTyG8VwhY"
      },
      "source": [
        "The cylinder column contains missing or inconsistent values, such as \"N/A, Electric\" for electric vehicles. To clean this column, the value \"N/A, Electric\" was replaced with 0, representing the absence of cylinders in electric vehicles. The column was then converted to numeric, coercing invalid entries into NaN. Finally, the data was cast as integers to ensure consistency and proper handling of valid numerical values."
      ]
    },
    {
      "cell_type": "code",
      "execution_count": 119,
      "metadata": {
        "colab": {
          "base_uri": "https://localhost:8080/"
        },
        "id": "KyRV32nQLtgj",
        "outputId": "d0a55be2-fc84-4d05-a795-88ba0b280ac9"
      },
      "outputs": [
        {
          "output_type": "stream",
          "name": "stdout",
          "text": [
            "0          0\n",
            "1          4\n",
            "2          4\n",
            "3          4\n",
            "4          4\n",
            "        ... \n",
            "6303       8\n",
            "6304       8\n",
            "6305      12\n",
            "6306    <NA>\n",
            "6307       8\n",
            "Name: cylinder, Length: 6308, dtype: Int64\n"
          ]
        }
      ],
      "source": [
        "# Clean the cylinder column .\n",
        "# 1. Replace \"N/A, Electric\" with 0 to represent electric vehicles.\n",
        "df['cylinder'] = df['cylinder'].replace('N/A, Electric', 0)\n",
        "\n",
        "# 2. Convert the column to numeric, coercing errors into NaN for invalid data.\n",
        "df['cylinder'] = pd.to_numeric(df['cylinder'], errors='coerce')\n",
        "\n",
        "# 3. Cast the cleaned values as integers, allowing NaN for invalid data.\n",
        "df['cylinder'] = df['cylinder'].astype('Int64')\n",
        "\n",
        "print(df['cylinder'])"
      ]
    },
    {
      "cell_type": "markdown",
      "metadata": {
        "id": "0luCD7vMWIEI"
      },
      "source": [
        "The cylinder column now represents valid numerical values, with 0 for Electrical vehicles and appropriate cylinder counts for others."
      ]
    },
    {
      "cell_type": "markdown",
      "metadata": {
        "id": "zUh_h_CGWS7e"
      },
      "source": [
        "\n",
        "\n",
        "---\n",
        "\n"
      ]
    },
    {
      "cell_type": "markdown",
      "metadata": {
        "id": "jrNzK5Uha7Hh"
      },
      "source": [
        "The horse_power column contains non-numeric entries, such as \"Single\" and \"Double,\" which represent undefined values. To clean this column, the non-numeric entries were replaced with the brand-specific average horsepower. The column was then converted to numeric values, ensuring consistency and usability for further analysis."
      ]
    },
    {
      "cell_type": "code",
      "execution_count": 120,
      "metadata": {
        "colab": {
          "base_uri": "https://localhost:8080/"
        },
        "id": "Kicq-qtZIouO",
        "outputId": "aa6fe154-4e37-4e70-8d95-45d4181f5b37"
      },
      "outputs": [
        {
          "output_type": "stream",
          "name": "stdout",
          "text": [
            "0       110.090909\n",
            "1              180\n",
            "2              102\n",
            "3              420\n",
            "4              140\n",
            "           ...    \n",
            "6303           505\n",
            "6304            25\n",
            "6305           624\n",
            "6306           740\n",
            "6307           530\n",
            "Name: horse_power, Length: 6308, dtype: object\n"
          ]
        }
      ],
      "source": [
        "# 1. Convert 'horse_power' to numeric where possible, ignoring errors for non-numeric values.\n",
        "df['horse_power_numeric'] = pd.to_numeric(df['horse_power'], errors='coerce')\n",
        "\n",
        "# 2. Group by 'brand' and calculate the mean of the numeric 'horse_power'.\n",
        "brand_avg_horse_power = df.groupby('brand')['horse_power_numeric'].mean()\n",
        "\n",
        "# 3. Replace 'Single' and 'Double' in 'horse_power' with the respective brand's average.\n",
        "def replace_with_avg(row, avg_dict):\n",
        "    if row['horse_power'] in ['Single', 'Double']:\n",
        "        return avg_dict.get(row['brand'], row['horse_power'])\n",
        "    return row['horse_power']\n",
        "\n",
        "# 4. Apply the replacement.\n",
        "df['horse_power'] = df.apply(replace_with_avg, avg_dict=brand_avg_horse_power, axis=1)\n",
        "\n",
        "df = df.drop(columns=['horse_power_numeric'])\n",
        "\n",
        "# 5. Display the updated data.\n",
        "print(df['horse_power'])"
      ]
    },
    {
      "cell_type": "markdown",
      "metadata": {
        "id": "aRLN0XRCbEt3"
      },
      "source": [
        "The horse_power column now contains clean numerical values."
      ]
    },
    {
      "cell_type": "markdown",
      "metadata": {
        "id": "JOeCccu1bSMV"
      },
      "source": [
        "\n",
        "\n",
        "---\n",
        "\n"
      ]
    },
    {
      "cell_type": "markdown",
      "metadata": {
        "id": "iqDxnJplbV9Z"
      },
      "source": [
        "Some numerical columns, such as engine_capacity and top_speed, contained missing or invalid values. These were cleaned by coercing invalid entries into NaN. This ensured that all columns were numeric and consistent for analysis."
      ]
    },
    {
      "cell_type": "code",
      "execution_count": 121,
      "metadata": {
        "colab": {
          "base_uri": "https://localhost:8080/"
        },
        "id": "9fYsedxv6qAS",
        "outputId": "da18d7bc-30f2-48bc-da9d-79e4ee767b3a"
      },
      "outputs": [
        {
          "output_type": "stream",
          "name": "stdout",
          "text": [
            "      engine_capacity  top_speed  horse_power\n",
            "0                 0.0        NaN   110.090909\n",
            "1                 2.0        NaN   180.000000\n",
            "2                 1.5      145.0   102.000000\n",
            "3                 2.3        NaN   420.000000\n",
            "4                 1.8      190.0   140.000000\n",
            "...               ...        ...          ...\n",
            "6303              6.8      296.0   505.000000\n",
            "6304              4.0      800.0    25.000000\n",
            "6305              6.6      250.0   624.000000\n",
            "6306              6.5      350.0   740.000000\n",
            "6307              6.8      305.0   530.000000\n",
            "\n",
            "[6308 rows x 3 columns]\n"
          ]
        }
      ],
      "source": [
        "# 1. Clean all the missing cell in the other numerical columns.\n",
        "def clean_numeric_column(column):\n",
        "    return pd.to_numeric(column, errors='coerce')\n",
        "# 2. Apply the cleaning function to all numerical columns.\n",
        "for col in num_columns:\n",
        "    df[col] = clean_numeric_column(df[col])\n",
        "\n",
        "print(df[num_columns])"
      ]
    },
    {
      "cell_type": "markdown",
      "metadata": {
        "id": "V2nPahB5bmc5"
      },
      "source": [
        "\n",
        "\n",
        "---\n",
        "\n"
      ]
    },
    {
      "cell_type": "markdown",
      "metadata": {
        "id": "m7RIUEHgbpuG"
      },
      "source": [
        "The price column contained missing values and inconsistent formatting, with prices represented in multiple currencies. To clean this column, numeric values were extracted, and missing prices were filled with the mean price for the corresponding country. Finally, all prices were converted to USD using predefined exchange rates."
      ]
    },
    {
      "cell_type": "code",
      "execution_count": 122,
      "metadata": {
        "colab": {
          "base_uri": "https://localhost:8080/"
        },
        "id": "UIxxW04maOHq",
        "outputId": "8ff486cc-664a-441f-b293-cb6823a1060d"
      },
      "outputs": [
        {
          "output_type": "stream",
          "name": "stdout",
          "text": [
            "0       3.146631e+05\n",
            "1       1.405750e+05\n",
            "2       9.878500e+04\n",
            "3       1.980000e+05\n",
            "4       3.146631e+05\n",
            "            ...     \n",
            "6303    2.651786e+05\n",
            "6304    1.766100e+06\n",
            "6305    1.400000e+06\n",
            "6306    1.650000e+06\n",
            "6307    2.651786e+05\n",
            "Name: price, Length: 6308, dtype: float64\n"
          ]
        },
        {
          "output_type": "stream",
          "name": "stderr",
          "text": [
            "<ipython-input-122-a12a8cce61cb>:18: FutureWarning: A value is trying to be set on a copy of a DataFrame or Series through chained assignment using an inplace method.\n",
            "The behavior will change in pandas 3.0. This inplace method will never work because the intermediate object on which we are setting values always behaves as a copy.\n",
            "\n",
            "For example, when doing 'df[col].method(value, inplace=True)', try using 'df.method({col: value}, inplace=True)' or df[col] = df[col].method(value) instead, to perform the operation inplace on the original object.\n",
            "\n",
            "\n",
            "  df['price'].fillna(mean_prices, inplace=True)\n"
          ]
        }
      ],
      "source": [
        "# 1. Extract the numeric price value from the 'price' column.\n",
        "def extract_price(x):\n",
        "    if isinstance(x, str) and len(x.split()) > 1:\n",
        "        try:\n",
        "            price_str = x.split()[1].replace(',', '')\n",
        "            return float(price_str)\n",
        "        except ValueError:\n",
        "\n",
        "            return np.nan\n",
        "    return np.nan\n",
        "\n",
        "df['currency'] = df['price'].apply(lambda x: x.split()[0] if isinstance(x, str) else np.nan)\n",
        "df['price'] = df['price'].apply(extract_price)\n",
        "\n",
        "# 2. Fill missing prices with the mean price for the respective country.\n",
        "mean_prices = df.groupby('country')['price'].transform('mean')\n",
        "\n",
        "df['price'].fillna(mean_prices, inplace=True)\n",
        "\n",
        "df = df.drop(columns=['currency'])\n",
        "\n",
        "print(df['price'])"
      ]
    },
    {
      "cell_type": "code",
      "execution_count": 123,
      "metadata": {
        "colab": {
          "base_uri": "https://localhost:8080/"
        },
        "id": "i8yXYKoZlgN3",
        "outputId": "df96ba95-7ed8-4f23-e008-2b584ae680cc"
      },
      "outputs": [
        {
          "output_type": "stream",
          "name": "stdout",
          "text": [
            "0        84959.034441\n",
            "1        37955.250000\n",
            "2        26671.950000\n",
            "3        53460.000000\n",
            "4        84959.034441\n",
            "            ...      \n",
            "6303     71598.235442\n",
            "6304    476847.000000\n",
            "6305    378000.000000\n",
            "6306    445500.000000\n",
            "6307     71598.235442\n",
            "Name: price, Length: 6308, dtype: float64\n"
          ]
        }
      ],
      "source": [
        "\n",
        "# 3. Convert all prices to USD using predefined exchange rates.\n",
        "exchange_rates = {\n",
        "    'uae': 0.27,\n",
        "    'kuwait': 3.25,\n",
        "    'usa': 1.0,\n",
        "    'ksa': 0.27,\n",
        "    'egypt': 0.02,\n",
        "    'bahrain': 2.65,\n",
        "    'oman': 2.6,\n",
        "    'qatar': 0.27\n",
        "}\n",
        "\n",
        "# 4. Define a function to convert prices to USD.\n",
        "def convert_to_usd(row):\n",
        "    country = row['country']\n",
        "    price = row['price']\n",
        "\n",
        "    exchange_rate = exchange_rates.get(country.lower(), 1.0)\n",
        "    return price * exchange_rate\n",
        "\n",
        "df['price'] = df.apply(convert_to_usd, axis=1)\n",
        "print(df['price'])"
      ]
    },
    {
      "cell_type": "markdown",
      "metadata": {
        "id": "lTXrqhkmb_VJ"
      },
      "source": [
        "\n",
        "\n",
        "---\n",
        "\n"
      ]
    },
    {
      "cell_type": "code",
      "execution_count": 124,
      "metadata": {
        "colab": {
          "base_uri": "https://localhost:8080/"
        },
        "id": "Y66wj5e1fW8Z",
        "outputId": "7c6d6546-f221-43ec-eda8-b6f1f0a15d30"
      },
      "outputs": [
        {
          "output_type": "stream",
          "name": "stdout",
          "text": [
            "Mising Values Summary:\n",
            "-----------------------------\n",
            "car name             0\n",
            "price                0\n",
            "engine_capacity      3\n",
            "cylinder           627\n",
            "horse_power          5\n",
            "top_speed          433\n",
            "seats              116\n",
            "brand                0\n",
            "country              0\n",
            "dtype: int64\n"
          ]
        }
      ],
      "source": [
        "# Print the missing values in the dataset.\n",
        "print(\"Mising Values Summary:\")\n",
        "print(\"-----------------------------\")\n",
        "print(df.isnull().sum())"
      ]
    },
    {
      "cell_type": "markdown",
      "metadata": {
        "id": "WB5BuzHwcLtg"
      },
      "source": [
        "\n",
        "\n",
        "---\n",
        "\n"
      ]
    },
    {
      "cell_type": "markdown",
      "metadata": {
        "id": "SymyQ9M_cOfe"
      },
      "source": [
        "The median was used to impute missing values in columns like engine_capacity, cylinder, top_speed, seats, and horse_power because it is robust to outliers and accurately represents the central tendency of the data. Unlike the mean, the median minimizes the impact of extreme values and works well for skewed distributions, ensuring the imputed values align with the typical range of each feature. This approach preserves the dataset's overall integrity and stability for further analysis and modeling."
      ]
    },
    {
      "cell_type": "code",
      "execution_count": 125,
      "metadata": {
        "colab": {
          "base_uri": "https://localhost:8080/"
        },
        "collapsed": true,
        "id": "RHCXmqVJ1QB5",
        "outputId": "7437e8fe-a593-45c3-f634-29961df05d69"
      },
      "outputs": [
        {
          "output_type": "stream",
          "name": "stderr",
          "text": [
            "<ipython-input-125-1dfda38b4d54>:5: FutureWarning: A value is trying to be set on a copy of a DataFrame or Series through chained assignment using an inplace method.\n",
            "The behavior will change in pandas 3.0. This inplace method will never work because the intermediate object on which we are setting values always behaves as a copy.\n",
            "\n",
            "For example, when doing 'df[col].method(value, inplace=True)', try using 'df.method({col: value}, inplace=True)' or df[col] = df[col].method(value) instead, to perform the operation inplace on the original object.\n",
            "\n",
            "\n",
            "  df[column].fillna(median_value, inplace=True)\n",
            "<ipython-input-125-1dfda38b4d54>:5: FutureWarning: A value is trying to be set on a copy of a DataFrame or Series through chained assignment using an inplace method.\n",
            "The behavior will change in pandas 3.0. This inplace method will never work because the intermediate object on which we are setting values always behaves as a copy.\n",
            "\n",
            "For example, when doing 'df[col].method(value, inplace=True)', try using 'df.method({col: value}, inplace=True)' or df[col] = df[col].method(value) instead, to perform the operation inplace on the original object.\n",
            "\n",
            "\n",
            "  df[column].fillna(median_value, inplace=True)\n",
            "<ipython-input-125-1dfda38b4d54>:5: FutureWarning: A value is trying to be set on a copy of a DataFrame or Series through chained assignment using an inplace method.\n",
            "The behavior will change in pandas 3.0. This inplace method will never work because the intermediate object on which we are setting values always behaves as a copy.\n",
            "\n",
            "For example, when doing 'df[col].method(value, inplace=True)', try using 'df.method({col: value}, inplace=True)' or df[col] = df[col].method(value) instead, to perform the operation inplace on the original object.\n",
            "\n",
            "\n",
            "  df[column].fillna(median_value, inplace=True)\n"
          ]
        }
      ],
      "source": [
        "columns_to_impute = ['engine_capacity' , 'cylinder', 'top_speed', 'seats','horse_power']\n",
        "\n",
        "for column in columns_to_impute:\n",
        "    median_value = df[column].median()\n",
        "    df[column].fillna(median_value, inplace=True)"
      ]
    },
    {
      "cell_type": "code",
      "execution_count": 126,
      "metadata": {
        "colab": {
          "base_uri": "https://localhost:8080/",
          "height": 424
        },
        "id": "YEa2ZXNtQRnY",
        "outputId": "046f52fa-522f-429a-b15f-9be1bb25c213"
      },
      "outputs": [
        {
          "output_type": "execute_result",
          "data": {
            "text/plain": [
              "                                               car name          price  \\\n",
              "0                               Fiat 500e 2021 La Prima   84959.034441   \n",
              "1                         Peugeot Traveller 2021 L3 VIP   37955.250000   \n",
              "2                      Suzuki Jimny 2021 1.5L Automatic   26671.950000   \n",
              "3                        Ford Bronco 2021 2.3T Big Bend   53460.000000   \n",
              "4                         Honda HR-V 2021 1.8 i-VTEC LX   84959.034441   \n",
              "...                                                 ...            ...   \n",
              "6303  Bentley Mulsanne 2021 6.75L V8 Extended Wheelbase   71598.235442   \n",
              "6304  Ferrari SF90 Stradale 2021 4.0T V8 Plug-in-Hybrid  476847.000000   \n",
              "6305                  Rolls Royce Wraith 2021 6.6L Base  378000.000000   \n",
              "6306        Lamborghini Aventador S 2021 6.5L V12 Coupe  445500.000000   \n",
              "6307               Bentley Mulsanne 2021 6.75L V8 Speed   71598.235442   \n",
              "\n",
              "      engine_capacity  cylinder  horse_power  top_speed  seats        brand  \\\n",
              "0                 0.0         0   110.090909      211.0    150         fiat   \n",
              "1                 2.0         4   180.000000      211.0      8      peugeot   \n",
              "2                 1.5         4   102.000000      145.0      4       suzuki   \n",
              "3                 2.3         4   420.000000      211.0      4         ford   \n",
              "4                 1.8         4   140.000000      190.0      5        honda   \n",
              "...               ...       ...          ...        ...    ...          ...   \n",
              "6303              6.8         8   505.000000      296.0      5      bentley   \n",
              "6304              4.0         8    25.000000      800.0      5      ferrari   \n",
              "6305              6.6        12   624.000000      250.0      4  rolls-royce   \n",
              "6306              6.5         4   740.000000      350.0      2  lamborghini   \n",
              "6307              6.8         8   530.000000      305.0      5      bentley   \n",
              "\n",
              "     country  \n",
              "0        ksa  \n",
              "1        ksa  \n",
              "2        ksa  \n",
              "3        ksa  \n",
              "4        ksa  \n",
              "...      ...  \n",
              "6303     uae  \n",
              "6304     uae  \n",
              "6305     uae  \n",
              "6306     uae  \n",
              "6307     uae  \n",
              "\n",
              "[6308 rows x 9 columns]"
            ],
            "text/html": [
              "\n",
              "  <div id=\"df-d0adbff9-ad14-41af-8452-c9a964d080f4\" class=\"colab-df-container\">\n",
              "    <div>\n",
              "<style scoped>\n",
              "    .dataframe tbody tr th:only-of-type {\n",
              "        vertical-align: middle;\n",
              "    }\n",
              "\n",
              "    .dataframe tbody tr th {\n",
              "        vertical-align: top;\n",
              "    }\n",
              "\n",
              "    .dataframe thead th {\n",
              "        text-align: right;\n",
              "    }\n",
              "</style>\n",
              "<table border=\"1\" class=\"dataframe\">\n",
              "  <thead>\n",
              "    <tr style=\"text-align: right;\">\n",
              "      <th></th>\n",
              "      <th>car name</th>\n",
              "      <th>price</th>\n",
              "      <th>engine_capacity</th>\n",
              "      <th>cylinder</th>\n",
              "      <th>horse_power</th>\n",
              "      <th>top_speed</th>\n",
              "      <th>seats</th>\n",
              "      <th>brand</th>\n",
              "      <th>country</th>\n",
              "    </tr>\n",
              "  </thead>\n",
              "  <tbody>\n",
              "    <tr>\n",
              "      <th>0</th>\n",
              "      <td>Fiat 500e 2021 La Prima</td>\n",
              "      <td>84959.034441</td>\n",
              "      <td>0.0</td>\n",
              "      <td>0</td>\n",
              "      <td>110.090909</td>\n",
              "      <td>211.0</td>\n",
              "      <td>150</td>\n",
              "      <td>fiat</td>\n",
              "      <td>ksa</td>\n",
              "    </tr>\n",
              "    <tr>\n",
              "      <th>1</th>\n",
              "      <td>Peugeot Traveller 2021 L3 VIP</td>\n",
              "      <td>37955.250000</td>\n",
              "      <td>2.0</td>\n",
              "      <td>4</td>\n",
              "      <td>180.000000</td>\n",
              "      <td>211.0</td>\n",
              "      <td>8</td>\n",
              "      <td>peugeot</td>\n",
              "      <td>ksa</td>\n",
              "    </tr>\n",
              "    <tr>\n",
              "      <th>2</th>\n",
              "      <td>Suzuki Jimny 2021 1.5L Automatic</td>\n",
              "      <td>26671.950000</td>\n",
              "      <td>1.5</td>\n",
              "      <td>4</td>\n",
              "      <td>102.000000</td>\n",
              "      <td>145.0</td>\n",
              "      <td>4</td>\n",
              "      <td>suzuki</td>\n",
              "      <td>ksa</td>\n",
              "    </tr>\n",
              "    <tr>\n",
              "      <th>3</th>\n",
              "      <td>Ford Bronco 2021 2.3T Big Bend</td>\n",
              "      <td>53460.000000</td>\n",
              "      <td>2.3</td>\n",
              "      <td>4</td>\n",
              "      <td>420.000000</td>\n",
              "      <td>211.0</td>\n",
              "      <td>4</td>\n",
              "      <td>ford</td>\n",
              "      <td>ksa</td>\n",
              "    </tr>\n",
              "    <tr>\n",
              "      <th>4</th>\n",
              "      <td>Honda HR-V 2021 1.8 i-VTEC LX</td>\n",
              "      <td>84959.034441</td>\n",
              "      <td>1.8</td>\n",
              "      <td>4</td>\n",
              "      <td>140.000000</td>\n",
              "      <td>190.0</td>\n",
              "      <td>5</td>\n",
              "      <td>honda</td>\n",
              "      <td>ksa</td>\n",
              "    </tr>\n",
              "    <tr>\n",
              "      <th>...</th>\n",
              "      <td>...</td>\n",
              "      <td>...</td>\n",
              "      <td>...</td>\n",
              "      <td>...</td>\n",
              "      <td>...</td>\n",
              "      <td>...</td>\n",
              "      <td>...</td>\n",
              "      <td>...</td>\n",
              "      <td>...</td>\n",
              "    </tr>\n",
              "    <tr>\n",
              "      <th>6303</th>\n",
              "      <td>Bentley Mulsanne 2021 6.75L V8 Extended Wheelbase</td>\n",
              "      <td>71598.235442</td>\n",
              "      <td>6.8</td>\n",
              "      <td>8</td>\n",
              "      <td>505.000000</td>\n",
              "      <td>296.0</td>\n",
              "      <td>5</td>\n",
              "      <td>bentley</td>\n",
              "      <td>uae</td>\n",
              "    </tr>\n",
              "    <tr>\n",
              "      <th>6304</th>\n",
              "      <td>Ferrari SF90 Stradale 2021 4.0T V8 Plug-in-Hybrid</td>\n",
              "      <td>476847.000000</td>\n",
              "      <td>4.0</td>\n",
              "      <td>8</td>\n",
              "      <td>25.000000</td>\n",
              "      <td>800.0</td>\n",
              "      <td>5</td>\n",
              "      <td>ferrari</td>\n",
              "      <td>uae</td>\n",
              "    </tr>\n",
              "    <tr>\n",
              "      <th>6305</th>\n",
              "      <td>Rolls Royce Wraith 2021 6.6L Base</td>\n",
              "      <td>378000.000000</td>\n",
              "      <td>6.6</td>\n",
              "      <td>12</td>\n",
              "      <td>624.000000</td>\n",
              "      <td>250.0</td>\n",
              "      <td>4</td>\n",
              "      <td>rolls-royce</td>\n",
              "      <td>uae</td>\n",
              "    </tr>\n",
              "    <tr>\n",
              "      <th>6306</th>\n",
              "      <td>Lamborghini Aventador S 2021 6.5L V12 Coupe</td>\n",
              "      <td>445500.000000</td>\n",
              "      <td>6.5</td>\n",
              "      <td>4</td>\n",
              "      <td>740.000000</td>\n",
              "      <td>350.0</td>\n",
              "      <td>2</td>\n",
              "      <td>lamborghini</td>\n",
              "      <td>uae</td>\n",
              "    </tr>\n",
              "    <tr>\n",
              "      <th>6307</th>\n",
              "      <td>Bentley Mulsanne 2021 6.75L V8 Speed</td>\n",
              "      <td>71598.235442</td>\n",
              "      <td>6.8</td>\n",
              "      <td>8</td>\n",
              "      <td>530.000000</td>\n",
              "      <td>305.0</td>\n",
              "      <td>5</td>\n",
              "      <td>bentley</td>\n",
              "      <td>uae</td>\n",
              "    </tr>\n",
              "  </tbody>\n",
              "</table>\n",
              "<p>6308 rows × 9 columns</p>\n",
              "</div>\n",
              "    <div class=\"colab-df-buttons\">\n",
              "\n",
              "  <div class=\"colab-df-container\">\n",
              "    <button class=\"colab-df-convert\" onclick=\"convertToInteractive('df-d0adbff9-ad14-41af-8452-c9a964d080f4')\"\n",
              "            title=\"Convert this dataframe to an interactive table.\"\n",
              "            style=\"display:none;\">\n",
              "\n",
              "  <svg xmlns=\"http://www.w3.org/2000/svg\" height=\"24px\" viewBox=\"0 -960 960 960\">\n",
              "    <path d=\"M120-120v-720h720v720H120Zm60-500h600v-160H180v160Zm220 220h160v-160H400v160Zm0 220h160v-160H400v160ZM180-400h160v-160H180v160Zm440 0h160v-160H620v160ZM180-180h160v-160H180v160Zm440 0h160v-160H620v160Z\"/>\n",
              "  </svg>\n",
              "    </button>\n",
              "\n",
              "  <style>\n",
              "    .colab-df-container {\n",
              "      display:flex;\n",
              "      gap: 12px;\n",
              "    }\n",
              "\n",
              "    .colab-df-convert {\n",
              "      background-color: #E8F0FE;\n",
              "      border: none;\n",
              "      border-radius: 50%;\n",
              "      cursor: pointer;\n",
              "      display: none;\n",
              "      fill: #1967D2;\n",
              "      height: 32px;\n",
              "      padding: 0 0 0 0;\n",
              "      width: 32px;\n",
              "    }\n",
              "\n",
              "    .colab-df-convert:hover {\n",
              "      background-color: #E2EBFA;\n",
              "      box-shadow: 0px 1px 2px rgba(60, 64, 67, 0.3), 0px 1px 3px 1px rgba(60, 64, 67, 0.15);\n",
              "      fill: #174EA6;\n",
              "    }\n",
              "\n",
              "    .colab-df-buttons div {\n",
              "      margin-bottom: 4px;\n",
              "    }\n",
              "\n",
              "    [theme=dark] .colab-df-convert {\n",
              "      background-color: #3B4455;\n",
              "      fill: #D2E3FC;\n",
              "    }\n",
              "\n",
              "    [theme=dark] .colab-df-convert:hover {\n",
              "      background-color: #434B5C;\n",
              "      box-shadow: 0px 1px 3px 1px rgba(0, 0, 0, 0.15);\n",
              "      filter: drop-shadow(0px 1px 2px rgba(0, 0, 0, 0.3));\n",
              "      fill: #FFFFFF;\n",
              "    }\n",
              "  </style>\n",
              "\n",
              "    <script>\n",
              "      const buttonEl =\n",
              "        document.querySelector('#df-d0adbff9-ad14-41af-8452-c9a964d080f4 button.colab-df-convert');\n",
              "      buttonEl.style.display =\n",
              "        google.colab.kernel.accessAllowed ? 'block' : 'none';\n",
              "\n",
              "      async function convertToInteractive(key) {\n",
              "        const element = document.querySelector('#df-d0adbff9-ad14-41af-8452-c9a964d080f4');\n",
              "        const dataTable =\n",
              "          await google.colab.kernel.invokeFunction('convertToInteractive',\n",
              "                                                    [key], {});\n",
              "        if (!dataTable) return;\n",
              "\n",
              "        const docLinkHtml = 'Like what you see? Visit the ' +\n",
              "          '<a target=\"_blank\" href=https://colab.research.google.com/notebooks/data_table.ipynb>data table notebook</a>'\n",
              "          + ' to learn more about interactive tables.';\n",
              "        element.innerHTML = '';\n",
              "        dataTable['output_type'] = 'display_data';\n",
              "        await google.colab.output.renderOutput(dataTable, element);\n",
              "        const docLink = document.createElement('div');\n",
              "        docLink.innerHTML = docLinkHtml;\n",
              "        element.appendChild(docLink);\n",
              "      }\n",
              "    </script>\n",
              "  </div>\n",
              "\n",
              "\n",
              "<div id=\"df-654e6cd0-1a90-40d8-ab84-86b17e95fdcf\">\n",
              "  <button class=\"colab-df-quickchart\" onclick=\"quickchart('df-654e6cd0-1a90-40d8-ab84-86b17e95fdcf')\"\n",
              "            title=\"Suggest charts\"\n",
              "            style=\"display:none;\">\n",
              "\n",
              "<svg xmlns=\"http://www.w3.org/2000/svg\" height=\"24px\"viewBox=\"0 0 24 24\"\n",
              "     width=\"24px\">\n",
              "    <g>\n",
              "        <path d=\"M19 3H5c-1.1 0-2 .9-2 2v14c0 1.1.9 2 2 2h14c1.1 0 2-.9 2-2V5c0-1.1-.9-2-2-2zM9 17H7v-7h2v7zm4 0h-2V7h2v10zm4 0h-2v-4h2v4z\"/>\n",
              "    </g>\n",
              "</svg>\n",
              "  </button>\n",
              "\n",
              "<style>\n",
              "  .colab-df-quickchart {\n",
              "      --bg-color: #E8F0FE;\n",
              "      --fill-color: #1967D2;\n",
              "      --hover-bg-color: #E2EBFA;\n",
              "      --hover-fill-color: #174EA6;\n",
              "      --disabled-fill-color: #AAA;\n",
              "      --disabled-bg-color: #DDD;\n",
              "  }\n",
              "\n",
              "  [theme=dark] .colab-df-quickchart {\n",
              "      --bg-color: #3B4455;\n",
              "      --fill-color: #D2E3FC;\n",
              "      --hover-bg-color: #434B5C;\n",
              "      --hover-fill-color: #FFFFFF;\n",
              "      --disabled-bg-color: #3B4455;\n",
              "      --disabled-fill-color: #666;\n",
              "  }\n",
              "\n",
              "  .colab-df-quickchart {\n",
              "    background-color: var(--bg-color);\n",
              "    border: none;\n",
              "    border-radius: 50%;\n",
              "    cursor: pointer;\n",
              "    display: none;\n",
              "    fill: var(--fill-color);\n",
              "    height: 32px;\n",
              "    padding: 0;\n",
              "    width: 32px;\n",
              "  }\n",
              "\n",
              "  .colab-df-quickchart:hover {\n",
              "    background-color: var(--hover-bg-color);\n",
              "    box-shadow: 0 1px 2px rgba(60, 64, 67, 0.3), 0 1px 3px 1px rgba(60, 64, 67, 0.15);\n",
              "    fill: var(--button-hover-fill-color);\n",
              "  }\n",
              "\n",
              "  .colab-df-quickchart-complete:disabled,\n",
              "  .colab-df-quickchart-complete:disabled:hover {\n",
              "    background-color: var(--disabled-bg-color);\n",
              "    fill: var(--disabled-fill-color);\n",
              "    box-shadow: none;\n",
              "  }\n",
              "\n",
              "  .colab-df-spinner {\n",
              "    border: 2px solid var(--fill-color);\n",
              "    border-color: transparent;\n",
              "    border-bottom-color: var(--fill-color);\n",
              "    animation:\n",
              "      spin 1s steps(1) infinite;\n",
              "  }\n",
              "\n",
              "  @keyframes spin {\n",
              "    0% {\n",
              "      border-color: transparent;\n",
              "      border-bottom-color: var(--fill-color);\n",
              "      border-left-color: var(--fill-color);\n",
              "    }\n",
              "    20% {\n",
              "      border-color: transparent;\n",
              "      border-left-color: var(--fill-color);\n",
              "      border-top-color: var(--fill-color);\n",
              "    }\n",
              "    30% {\n",
              "      border-color: transparent;\n",
              "      border-left-color: var(--fill-color);\n",
              "      border-top-color: var(--fill-color);\n",
              "      border-right-color: var(--fill-color);\n",
              "    }\n",
              "    40% {\n",
              "      border-color: transparent;\n",
              "      border-right-color: var(--fill-color);\n",
              "      border-top-color: var(--fill-color);\n",
              "    }\n",
              "    60% {\n",
              "      border-color: transparent;\n",
              "      border-right-color: var(--fill-color);\n",
              "    }\n",
              "    80% {\n",
              "      border-color: transparent;\n",
              "      border-right-color: var(--fill-color);\n",
              "      border-bottom-color: var(--fill-color);\n",
              "    }\n",
              "    90% {\n",
              "      border-color: transparent;\n",
              "      border-bottom-color: var(--fill-color);\n",
              "    }\n",
              "  }\n",
              "</style>\n",
              "\n",
              "  <script>\n",
              "    async function quickchart(key) {\n",
              "      const quickchartButtonEl =\n",
              "        document.querySelector('#' + key + ' button');\n",
              "      quickchartButtonEl.disabled = true;  // To prevent multiple clicks.\n",
              "      quickchartButtonEl.classList.add('colab-df-spinner');\n",
              "      try {\n",
              "        const charts = await google.colab.kernel.invokeFunction(\n",
              "            'suggestCharts', [key], {});\n",
              "      } catch (error) {\n",
              "        console.error('Error during call to suggestCharts:', error);\n",
              "      }\n",
              "      quickchartButtonEl.classList.remove('colab-df-spinner');\n",
              "      quickchartButtonEl.classList.add('colab-df-quickchart-complete');\n",
              "    }\n",
              "    (() => {\n",
              "      let quickchartButtonEl =\n",
              "        document.querySelector('#df-654e6cd0-1a90-40d8-ab84-86b17e95fdcf button');\n",
              "      quickchartButtonEl.style.display =\n",
              "        google.colab.kernel.accessAllowed ? 'block' : 'none';\n",
              "    })();\n",
              "  </script>\n",
              "</div>\n",
              "\n",
              "  <div id=\"id_fb7635ce-e534-424e-9e39-6aa37ab569bf\">\n",
              "    <style>\n",
              "      .colab-df-generate {\n",
              "        background-color: #E8F0FE;\n",
              "        border: none;\n",
              "        border-radius: 50%;\n",
              "        cursor: pointer;\n",
              "        display: none;\n",
              "        fill: #1967D2;\n",
              "        height: 32px;\n",
              "        padding: 0 0 0 0;\n",
              "        width: 32px;\n",
              "      }\n",
              "\n",
              "      .colab-df-generate:hover {\n",
              "        background-color: #E2EBFA;\n",
              "        box-shadow: 0px 1px 2px rgba(60, 64, 67, 0.3), 0px 1px 3px 1px rgba(60, 64, 67, 0.15);\n",
              "        fill: #174EA6;\n",
              "      }\n",
              "\n",
              "      [theme=dark] .colab-df-generate {\n",
              "        background-color: #3B4455;\n",
              "        fill: #D2E3FC;\n",
              "      }\n",
              "\n",
              "      [theme=dark] .colab-df-generate:hover {\n",
              "        background-color: #434B5C;\n",
              "        box-shadow: 0px 1px 3px 1px rgba(0, 0, 0, 0.15);\n",
              "        filter: drop-shadow(0px 1px 2px rgba(0, 0, 0, 0.3));\n",
              "        fill: #FFFFFF;\n",
              "      }\n",
              "    </style>\n",
              "    <button class=\"colab-df-generate\" onclick=\"generateWithVariable('df')\"\n",
              "            title=\"Generate code using this dataframe.\"\n",
              "            style=\"display:none;\">\n",
              "\n",
              "  <svg xmlns=\"http://www.w3.org/2000/svg\" height=\"24px\"viewBox=\"0 0 24 24\"\n",
              "       width=\"24px\">\n",
              "    <path d=\"M7,19H8.4L18.45,9,17,7.55,7,17.6ZM5,21V16.75L18.45,3.32a2,2,0,0,1,2.83,0l1.4,1.43a1.91,1.91,0,0,1,.58,1.4,1.91,1.91,0,0,1-.58,1.4L9.25,21ZM18.45,9,17,7.55Zm-12,3A5.31,5.31,0,0,0,4.9,8.1,5.31,5.31,0,0,0,1,6.5,5.31,5.31,0,0,0,4.9,4.9,5.31,5.31,0,0,0,6.5,1,5.31,5.31,0,0,0,8.1,4.9,5.31,5.31,0,0,0,12,6.5,5.46,5.46,0,0,0,6.5,12Z\"/>\n",
              "  </svg>\n",
              "    </button>\n",
              "    <script>\n",
              "      (() => {\n",
              "      const buttonEl =\n",
              "        document.querySelector('#id_fb7635ce-e534-424e-9e39-6aa37ab569bf button.colab-df-generate');\n",
              "      buttonEl.style.display =\n",
              "        google.colab.kernel.accessAllowed ? 'block' : 'none';\n",
              "\n",
              "      buttonEl.onclick = () => {\n",
              "        google.colab.notebook.generateWithVariable('df');\n",
              "      }\n",
              "      })();\n",
              "    </script>\n",
              "  </div>\n",
              "\n",
              "    </div>\n",
              "  </div>\n"
            ],
            "application/vnd.google.colaboratory.intrinsic+json": {
              "type": "dataframe",
              "variable_name": "df",
              "summary": "{\n  \"name\": \"df\",\n  \"rows\": 6308,\n  \"fields\": [\n    {\n      \"column\": \"car name\",\n      \"properties\": {\n        \"dtype\": \"category\",\n        \"num_unique_values\": 2546,\n        \"samples\": [\n          \"Volvo XC60 2021 2.0T T5 FWD Momentum\",\n          \"Ford Explorer 2021 3.5L V6 Base\",\n          \"Volvo XC60 2021 2.0T T5 AWD Inscription\"\n        ],\n        \"semantic_type\": \"\",\n        \"description\": \"\"\n      }\n    },\n    {\n      \"column\": \"price\",\n      \"properties\": {\n        \"dtype\": \"number\",\n        \"std\": 95370.38913798617,\n        \"min\": 2880.0,\n        \"max\": 3594996.0000000005,\n        \"num_unique_values\": 3027,\n        \"samples\": [\n          96725.0,\n          33750.0,\n          49725.0\n        ],\n        \"semantic_type\": \"\",\n        \"description\": \"\"\n      }\n    },\n    {\n      \"column\": \"engine_capacity\",\n      \"properties\": {\n        \"dtype\": \"number\",\n        \"std\": 545.144535338651,\n        \"min\": 0.0,\n        \"max\": 6752.0,\n        \"num_unique_values\": 128,\n        \"samples\": [\n          1800.0,\n          4.7,\n          2.4\n        ],\n        \"semantic_type\": \"\",\n        \"description\": \"\"\n      }\n    },\n    {\n      \"column\": \"cylinder\",\n      \"properties\": {\n        \"dtype\": \"Int64\",\n        \"num_unique_values\": 9,\n        \"samples\": [\n          10,\n          4,\n          3\n        ],\n        \"semantic_type\": \"\",\n        \"description\": \"\"\n      }\n    },\n    {\n      \"column\": \"horse_power\",\n      \"properties\": {\n        \"dtype\": \"number\",\n        \"std\": 178.46127498641968,\n        \"min\": 12.0,\n        \"max\": 5050.0,\n        \"num_unique_values\": 342,\n        \"samples\": [\n          540.0,\n          148.0,\n          800.0\n        ],\n        \"semantic_type\": \"\",\n        \"description\": \"\"\n      }\n    },\n    {\n      \"column\": \"top_speed\",\n      \"properties\": {\n        \"dtype\": \"number\",\n        \"std\": 45.84627268399938,\n        \"min\": 120.0,\n        \"max\": 966.0,\n        \"num_unique_values\": 157,\n        \"samples\": [\n          213.0,\n          283.0,\n          204.0\n        ],\n        \"semantic_type\": \"\",\n        \"description\": \"\"\n      }\n    },\n    {\n      \"column\": \"seats\",\n      \"properties\": {\n        \"dtype\": \"Int64\",\n        \"num_unique_values\": 28,\n        \"samples\": [\n          3,\n          230,\n          260\n        ],\n        \"semantic_type\": \"\",\n        \"description\": \"\"\n      }\n    },\n    {\n      \"column\": \"brand\",\n      \"properties\": {\n        \"dtype\": \"category\",\n        \"num_unique_values\": 82,\n        \"samples\": [\n          \"infiniti\",\n          \"fiat\",\n          \"lamborghini\"\n        ],\n        \"semantic_type\": \"\",\n        \"description\": \"\"\n      }\n    },\n    {\n      \"column\": \"country\",\n      \"properties\": {\n        \"dtype\": \"category\",\n        \"num_unique_values\": 7,\n        \"samples\": [\n          \"ksa\",\n          \"egypt\",\n          \"kuwait\"\n        ],\n        \"semantic_type\": \"\",\n        \"description\": \"\"\n      }\n    }\n  ]\n}"
            }
          },
          "metadata": {},
          "execution_count": 126
        }
      ],
      "source": [
        "df"
      ]
    },
    {
      "cell_type": "markdown",
      "metadata": {
        "id": "rfz3eOzZcvu0"
      },
      "source": [
        "The dataset after completing the cleaning process."
      ]
    },
    {
      "cell_type": "markdown",
      "metadata": {
        "id": "jQTXbFPEcpre"
      },
      "source": [
        "\n",
        "\n",
        "---\n",
        "\n"
      ]
    },
    {
      "cell_type": "markdown",
      "metadata": {
        "id": "vyB1Stx_NAEO"
      },
      "source": [
        "**Outliers**"
      ]
    },
    {
      "cell_type": "markdown",
      "metadata": {
        "id": "cJc9fY_-c4MR"
      },
      "source": [
        "Outliers in the dataset were handled to ensure they did not distort the analysis or model predictions. Initial boxplots identified outliers in numerical columns like price, engine_capacity, and horse_power. Unrealistic values in the seats column (e.g., above 20) were replaced with random integers between 10 and 20 to maintain realistic variability. For other numerical columns, the Interquartile Range (IQR) method was used to clip outliers to the nearest valid boundary. Post-clipping boxplots confirmed that the outliers were effectively handled, ensuring the dataset was clean and ready for modeling."
      ]
    },
    {
      "cell_type": "code",
      "execution_count": 127,
      "metadata": {
        "colab": {
          "base_uri": "https://localhost:8080/",
          "height": 1000
        },
        "id": "Zux7L9pzM8xq",
        "outputId": "971aefbc-7a5c-4deb-dd50-7328f527127f"
      },
      "outputs": [
        {
          "output_type": "display_data",
          "data": {
            "text/plain": [
              "<Figure size 800x400 with 1 Axes>"
            ],
            "image/png": "[encoded data removed]"
          },
          "metadata": {}
        },
        {
          "output_type": "display_data",
          "data": {
            "text/plain": [
              "<Figure size 800x400 with 1 Axes>"
            ],
            "image/png": "[encoded data removed]"
          },
          "metadata": {}
        },
        {
          "output_type": "display_data",
          "data": {
            "text/plain": [
              "<Figure size 800x400 with 1 Axes>"
            ],
            "image/png": "[encoded data removed]"
          },
          "metadata": {}
        },
        {
          "output_type": "display_data",
          "data": {
            "text/plain": [
              "<Figure size 800x400 with 1 Axes>"
            ],
            "image/png": "[encoded data removed]"
          },
          "metadata": {}
        },
        {
          "output_type": "display_data",
          "data": {
            "text/plain": [
              "<Figure size 800x400 with 1 Axes>"
            ],
            "image/png": "[encoded data removed]"
          },
          "metadata": {}
        }
      ],
      "source": [
        "# List of numerical columns for outlier detection and handling.\n",
        "numeric_columns = ['price', 'engine_capacity',\t'cylinder'\t,'horse_power',\t'top_speed']\n",
        "\n",
        "# Initial Boxplots to visualize outliers.\n",
        "for column in numeric_columns:\n",
        "    plt.figure(figsize=(8, 4))\n",
        "    sns.boxplot(x=df[column])\n",
        "    plt.title(f\"Boxplot for {column}\")\n",
        "    plt.xlabel(column)\n",
        "    plt.ylabel(\"Values\")\n",
        "    plt.show()"
      ]
    },
    {
      "cell_type": "markdown",
      "metadata": {
        "id": "kRVv25NcdhNk"
      },
      "source": [
        "Boxplots of numerical features before handling outliers."
      ]
    },
    {
      "cell_type": "code",
      "execution_count": 128,
      "metadata": {
        "collapsed": true,
        "id": "_3QFmQs5VcdX"
      },
      "outputs": [],
      "source": [
        "# Replace unrealistic values in the 'seats' column.\n",
        "np.random.seed(42)\n",
        "\n",
        "# Replace values above 20 in the 'seats' column with random integers between 10 and 20.\n",
        "df.loc[df['seats'] > 20, 'seats'] = np.random.randint(10, 21, size=(df[df['seats'] > 20].shape[0])).astype('int64')"
      ]
    },
    {
      "cell_type": "code",
      "execution_count": 129,
      "metadata": {
        "id": "9BbVWis_N6N6"
      },
      "outputs": [],
      "source": [
        "# Calculate IQR and clip outliers for each numerical column.\n",
        "for col in numeric_columns:\n",
        "    Q1 = df[col].quantile(0.25)\n",
        "    Q3 = df[col].quantile(0.75)\n",
        "    IQR = Q3 - Q1\n",
        "\n",
        "    lower_bound = Q1 - 1.5 * IQR\n",
        "    upper_bound = Q3 + 1.5 * IQR\n",
        "\n",
        "    df[col] = df[col].clip(lower=lower_bound, upper=upper_bound)"
      ]
    },
    {
      "cell_type": "code",
      "execution_count": 130,
      "metadata": {
        "colab": {
          "base_uri": "https://localhost:8080/",
          "height": 1000
        },
        "id": "L2NAhvYWOVXG",
        "outputId": "c3913bf2-f4aa-410e-b9d8-ba4b56f322cd"
      },
      "outputs": [
        {
          "output_type": "display_data",
          "data": {
            "text/plain": [
              "<Figure size 800x400 with 1 Axes>"
            ],
            "image/png": "[encoded data removed]"
          },
          "metadata": {}
        },
        {
          "output_type": "display_data",
          "data": {
            "text/plain": [
              "<Figure size 800x400 with 1 Axes>"
            ],
            "image/png": "[encoded data removed]"
          },
          "metadata": {}
        },
        {
          "output_type": "display_data",
          "data": {
            "text/plain": [
              "<Figure size 800x400 with 1 Axes>"
            ],
            "image/png": "[encoded data removed]"
          },
          "metadata": {}
        },
        {
          "output_type": "display_data",
          "data": {
            "text/plain": [
              "<Figure size 800x400 with 1 Axes>"
            ],
            "image/png": "[encoded data removed]"
          },
          "metadata": {}
        },
        {
          "output_type": "display_data",
          "data": {
            "text/plain": [
              "<Figure size 800x400 with 1 Axes>"
            ],
            "image/png": "[encoded data removed]"
          },
          "metadata": {}
        }
      ],
      "source": [
        " # Post-Clipping Boxplots to verify outlier handling.\n",
        "for column in numeric_columns:\n",
        "    plt.figure(figsize=(8, 4))\n",
        "    sns.boxplot(x=df[column])\n",
        "    plt.title(f\"Boxplot for {column}\")\n",
        "    plt.xlabel(column)\n",
        "    plt.ylabel(\"Values\")\n",
        "    plt.show()"
      ]
    },
    {
      "cell_type": "markdown",
      "metadata": {
        "id": "hAafPDaodnLc"
      },
      "source": [
        "Boxplots of numerical features before handling outliers."
      ]
    },
    {
      "cell_type": "markdown",
      "metadata": {
        "id": "mX2NbOAWdrQ6"
      },
      "source": [
        "\n",
        "\n",
        "---\n",
        "\n"
      ]
    },
    {
      "cell_type": "markdown",
      "metadata": {
        "id": "XSbWlTkYy7BD"
      },
      "source": [
        "### 1.2.2 Encoding categorical features."
      ]
    },
    {
      "cell_type": "markdown",
      "metadata": {
        "id": "5aIT1W-fdzDU"
      },
      "source": [
        "Categorical features in the dataset, such as country and brand, were encoded to make them suitable for numerical analysis by machine learning models. This step ensured that the categorical data was represented in a format that the models could process while retaining the relationships between categories."
      ]
    },
    {
      "cell_type": "markdown",
      "metadata": {
        "id": "s26G5MfPd4GJ"
      },
      "source": [
        "The country column, which specifies the country where the car is sold, was encoded using one-hot encoding. This method creates binary columns (0 or 1) for each unique category, ensuring no ordinal relationships are implied between the countries."
      ]
    },
    {
      "cell_type": "code",
      "execution_count": 131,
      "metadata": {
        "colab": {
          "base_uri": "https://localhost:8080/"
        },
        "id": "P-DIHhckYhq8",
        "outputId": "53643ad8-e7ac-4e65-b30a-2282b855c1ba"
      },
      "outputs": [
        {
          "output_type": "stream",
          "name": "stdout",
          "text": [
            "                           car name         price  engine_capacity  cylinder  \\\n",
            "0           Fiat 500e 2021 La Prima  84959.034441              0.0         1   \n",
            "1     Peugeot Traveller 2021 L3 VIP  37955.250000              2.0         4   \n",
            "2  Suzuki Jimny 2021 1.5L Automatic  26671.950000              1.5         4   \n",
            "3    Ford Bronco 2021 2.3T Big Bend  53460.000000              2.3         4   \n",
            "4     Honda HR-V 2021 1.8 i-VTEC LX  84959.034441              1.8         4   \n",
            "\n",
            "   horse_power  top_speed  seats    brand  country_bahrain  country_egypt  \\\n",
            "0   110.090909      211.0     16     fiat            False          False   \n",
            "1   180.000000      211.0      8  peugeot            False          False   \n",
            "2   102.000000      145.0      4   suzuki            False          False   \n",
            "3   420.000000      211.0      4     ford            False          False   \n",
            "4   140.000000      190.0      5    honda            False          False   \n",
            "\n",
            "   country_ksa  country_kuwait  country_oman  country_qatar  country_uae  \n",
            "0         True           False         False          False        False  \n",
            "1         True           False         False          False        False  \n",
            "2         True           False         False          False        False  \n",
            "3         True           False         False          False        False  \n",
            "4         True           False         False          False        False  \n"
          ]
        }
      ],
      "source": [
        "# One-Hot Encoding for the 'country' column.\n",
        "df= pd.get_dummies(df, columns=['country'], prefix='country')\n",
        "\n",
        "print(df.head())"
      ]
    },
    {
      "cell_type": "markdown",
      "metadata": {
        "id": "4vmeLpESd9K-"
      },
      "source": [
        "The brand column, which specifies the car manufacturer, was encoded using label encoding. This method assigns a unique integer to each brand, compactly representing the categorical values."
      ]
    },
    {
      "cell_type": "code",
      "execution_count": 132,
      "metadata": {
        "colab": {
          "base_uri": "https://localhost:8080/",
          "height": 458
        },
        "id": "rP2J5-fiNvO0",
        "outputId": "e3e50cc2-1b99-4478-cb72-4176d6186e52"
      },
      "outputs": [
        {
          "output_type": "execute_result",
          "data": {
            "text/plain": [
              "                                               car name          price  \\\n",
              "0                               Fiat 500e 2021 La Prima   84959.034441   \n",
              "1                         Peugeot Traveller 2021 L3 VIP   37955.250000   \n",
              "2                      Suzuki Jimny 2021 1.5L Automatic   26671.950000   \n",
              "3                        Ford Bronco 2021 2.3T Big Bend   53460.000000   \n",
              "4                         Honda HR-V 2021 1.8 i-VTEC LX   84959.034441   \n",
              "...                                                 ...            ...   \n",
              "6303  Bentley Mulsanne 2021 6.75L V8 Extended Wheelbase   71598.235442   \n",
              "6304  Ferrari SF90 Stradale 2021 4.0T V8 Plug-in-Hybrid  159383.233526   \n",
              "6305                  Rolls Royce Wraith 2021 6.6L Base  159383.233526   \n",
              "6306        Lamborghini Aventador S 2021 6.5L V12 Coupe  159383.233526   \n",
              "6307               Bentley Mulsanne 2021 6.75L V8 Speed   71598.235442   \n",
              "\n",
              "      engine_capacity  cylinder  horse_power  top_speed  seats  brand  \\\n",
              "0                 0.0         1   110.090909      211.0     16     25   \n",
              "1                 2.0         4   180.000000      211.0      8     62   \n",
              "2                 1.5         4   102.000000      145.0      4     74   \n",
              "3                 2.3         4   420.000000      211.0      4     26   \n",
              "4                 1.8         4   140.000000      190.0      5     33   \n",
              "...               ...       ...          ...        ...    ...    ...   \n",
              "6303              6.8         8   505.000000      296.0      5      7   \n",
              "6304              4.0         8    25.000000      343.0      5     24   \n",
              "6305              6.6         9   624.000000      250.0      4     67   \n",
              "6306              6.5         4   665.500000      343.0      2     45   \n",
              "6307              6.8         8   530.000000      305.0      5      7   \n",
              "\n",
              "      country_bahrain  country_egypt  country_ksa  country_kuwait  \\\n",
              "0               False          False         True           False   \n",
              "1               False          False         True           False   \n",
              "2               False          False         True           False   \n",
              "3               False          False         True           False   \n",
              "4               False          False         True           False   \n",
              "...               ...            ...          ...             ...   \n",
              "6303            False          False        False           False   \n",
              "6304            False          False        False           False   \n",
              "6305            False          False        False           False   \n",
              "6306            False          False        False           False   \n",
              "6307            False          False        False           False   \n",
              "\n",
              "      country_oman  country_qatar  country_uae  \n",
              "0            False          False        False  \n",
              "1            False          False        False  \n",
              "2            False          False        False  \n",
              "3            False          False        False  \n",
              "4            False          False        False  \n",
              "...            ...            ...          ...  \n",
              "6303         False          False         True  \n",
              "6304         False          False         True  \n",
              "6305         False          False         True  \n",
              "6306         False          False         True  \n",
              "6307         False          False         True  \n",
              "\n",
              "[6308 rows x 15 columns]"
            ],
            "text/html": [
              "\n",
              "  <div id=\"df-98f5e1ad-63b6-4b10-a3cc-321185daa0d9\" class=\"colab-df-container\">\n",
              "    <div>\n",
              "<style scoped>\n",
              "    .dataframe tbody tr th:only-of-type {\n",
              "        vertical-align: middle;\n",
              "    }\n",
              "\n",
              "    .dataframe tbody tr th {\n",
              "        vertical-align: top;\n",
              "    }\n",
              "\n",
              "    .dataframe thead th {\n",
              "        text-align: right;\n",
              "    }\n",
              "</style>\n",
              "<table border=\"1\" class=\"dataframe\">\n",
              "  <thead>\n",
              "    <tr style=\"text-align: right;\">\n",
              "      <th></th>\n",
              "      <th>car name</th>\n",
              "      <th>price</th>\n",
              "      <th>engine_capacity</th>\n",
              "      <th>cylinder</th>\n",
              "      <th>horse_power</th>\n",
              "      <th>top_speed</th>\n",
              "      <th>seats</th>\n",
              "      <th>brand</th>\n",
              "      <th>country_bahrain</th>\n",
              "      <th>country_egypt</th>\n",
              "      <th>country_ksa</th>\n",
              "      <th>country_kuwait</th>\n",
              "      <th>country_oman</th>\n",
              "      <th>country_qatar</th>\n",
              "      <th>country_uae</th>\n",
              "    </tr>\n",
              "  </thead>\n",
              "  <tbody>\n",
              "    <tr>\n",
              "      <th>0</th>\n",
              "      <td>Fiat 500e 2021 La Prima</td>\n",
              "      <td>84959.034441</td>\n",
              "      <td>0.0</td>\n",
              "      <td>1</td>\n",
              "      <td>110.090909</td>\n",
              "      <td>211.0</td>\n",
              "      <td>16</td>\n",
              "      <td>25</td>\n",
              "      <td>False</td>\n",
              "      <td>False</td>\n",
              "      <td>True</td>\n",
              "      <td>False</td>\n",
              "      <td>False</td>\n",
              "      <td>False</td>\n",
              "      <td>False</td>\n",
              "    </tr>\n",
              "    <tr>\n",
              "      <th>1</th>\n",
              "      <td>Peugeot Traveller 2021 L3 VIP</td>\n",
              "      <td>37955.250000</td>\n",
              "      <td>2.0</td>\n",
              "      <td>4</td>\n",
              "      <td>180.000000</td>\n",
              "      <td>211.0</td>\n",
              "      <td>8</td>\n",
              "      <td>62</td>\n",
              "      <td>False</td>\n",
              "      <td>False</td>\n",
              "      <td>True</td>\n",
              "      <td>False</td>\n",
              "      <td>False</td>\n",
              "      <td>False</td>\n",
              "      <td>False</td>\n",
              "    </tr>\n",
              "    <tr>\n",
              "      <th>2</th>\n",
              "      <td>Suzuki Jimny 2021 1.5L Automatic</td>\n",
              "      <td>26671.950000</td>\n",
              "      <td>1.5</td>\n",
              "      <td>4</td>\n",
              "      <td>102.000000</td>\n",
              "      <td>145.0</td>\n",
              "      <td>4</td>\n",
              "      <td>74</td>\n",
              "      <td>False</td>\n",
              "      <td>False</td>\n",
              "      <td>True</td>\n",
              "      <td>False</td>\n",
              "      <td>False</td>\n",
              "      <td>False</td>\n",
              "      <td>False</td>\n",
              "    </tr>\n",
              "    <tr>\n",
              "      <th>3</th>\n",
              "      <td>Ford Bronco 2021 2.3T Big Bend</td>\n",
              "      <td>53460.000000</td>\n",
              "      <td>2.3</td>\n",
              "      <td>4</td>\n",
              "      <td>420.000000</td>\n",
              "      <td>211.0</td>\n",
              "      <td>4</td>\n",
              "      <td>26</td>\n",
              "      <td>False</td>\n",
              "      <td>False</td>\n",
              "      <td>True</td>\n",
              "      <td>False</td>\n",
              "      <td>False</td>\n",
              "      <td>False</td>\n",
              "      <td>False</td>\n",
              "    </tr>\n",
              "    <tr>\n",
              "      <th>4</th>\n",
              "      <td>Honda HR-V 2021 1.8 i-VTEC LX</td>\n",
              "      <td>84959.034441</td>\n",
              "      <td>1.8</td>\n",
              "      <td>4</td>\n",
              "      <td>140.000000</td>\n",
              "      <td>190.0</td>\n",
              "      <td>5</td>\n",
              "      <td>33</td>\n",
              "      <td>False</td>\n",
              "      <td>False</td>\n",
              "      <td>True</td>\n",
              "      <td>False</td>\n",
              "      <td>False</td>\n",
              "      <td>False</td>\n",
              "      <td>False</td>\n",
              "    </tr>\n",
              "    <tr>\n",
              "      <th>...</th>\n",
              "      <td>...</td>\n",
              "      <td>...</td>\n",
              "      <td>...</td>\n",
              "      <td>...</td>\n",
              "      <td>...</td>\n",
              "      <td>...</td>\n",
              "      <td>...</td>\n",
              "      <td>...</td>\n",
              "      <td>...</td>\n",
              "      <td>...</td>\n",
              "      <td>...</td>\n",
              "      <td>...</td>\n",
              "      <td>...</td>\n",
              "      <td>...</td>\n",
              "      <td>...</td>\n",
              "    </tr>\n",
              "    <tr>\n",
              "      <th>6303</th>\n",
              "      <td>Bentley Mulsanne 2021 6.75L V8 Extended Wheelbase</td>\n",
              "      <td>71598.235442</td>\n",
              "      <td>6.8</td>\n",
              "      <td>8</td>\n",
              "      <td>505.000000</td>\n",
              "      <td>296.0</td>\n",
              "      <td>5</td>\n",
              "      <td>7</td>\n",
              "      <td>False</td>\n",
              "      <td>False</td>\n",
              "      <td>False</td>\n",
              "      <td>False</td>\n",
              "      <td>False</td>\n",
              "      <td>False</td>\n",
              "      <td>True</td>\n",
              "    </tr>\n",
              "    <tr>\n",
              "      <th>6304</th>\n",
              "      <td>Ferrari SF90 Stradale 2021 4.0T V8 Plug-in-Hybrid</td>\n",
              "      <td>159383.233526</td>\n",
              "      <td>4.0</td>\n",
              "      <td>8</td>\n",
              "      <td>25.000000</td>\n",
              "      <td>343.0</td>\n",
              "      <td>5</td>\n",
              "      <td>24</td>\n",
              "      <td>False</td>\n",
              "      <td>False</td>\n",
              "      <td>False</td>\n",
              "      <td>False</td>\n",
              "      <td>False</td>\n",
              "      <td>False</td>\n",
              "      <td>True</td>\n",
              "    </tr>\n",
              "    <tr>\n",
              "      <th>6305</th>\n",
              "      <td>Rolls Royce Wraith 2021 6.6L Base</td>\n",
              "      <td>159383.233526</td>\n",
              "      <td>6.6</td>\n",
              "      <td>9</td>\n",
              "      <td>624.000000</td>\n",
              "      <td>250.0</td>\n",
              "      <td>4</td>\n",
              "      <td>67</td>\n",
              "      <td>False</td>\n",
              "      <td>False</td>\n",
              "      <td>False</td>\n",
              "      <td>False</td>\n",
              "      <td>False</td>\n",
              "      <td>False</td>\n",
              "      <td>True</td>\n",
              "    </tr>\n",
              "    <tr>\n",
              "      <th>6306</th>\n",
              "      <td>Lamborghini Aventador S 2021 6.5L V12 Coupe</td>\n",
              "      <td>159383.233526</td>\n",
              "      <td>6.5</td>\n",
              "      <td>4</td>\n",
              "      <td>665.500000</td>\n",
              "      <td>343.0</td>\n",
              "      <td>2</td>\n",
              "      <td>45</td>\n",
              "      <td>False</td>\n",
              "      <td>False</td>\n",
              "      <td>False</td>\n",
              "      <td>False</td>\n",
              "      <td>False</td>\n",
              "      <td>False</td>\n",
              "      <td>True</td>\n",
              "    </tr>\n",
              "    <tr>\n",
              "      <th>6307</th>\n",
              "      <td>Bentley Mulsanne 2021 6.75L V8 Speed</td>\n",
              "      <td>71598.235442</td>\n",
              "      <td>6.8</td>\n",
              "      <td>8</td>\n",
              "      <td>530.000000</td>\n",
              "      <td>305.0</td>\n",
              "      <td>5</td>\n",
              "      <td>7</td>\n",
              "      <td>False</td>\n",
              "      <td>False</td>\n",
              "      <td>False</td>\n",
              "      <td>False</td>\n",
              "      <td>False</td>\n",
              "      <td>False</td>\n",
              "      <td>True</td>\n",
              "    </tr>\n",
              "  </tbody>\n",
              "</table>\n",
              "<p>6308 rows × 15 columns</p>\n",
              "</div>\n",
              "    <div class=\"colab-df-buttons\">\n",
              "\n",
              "  <div class=\"colab-df-container\">\n",
              "    <button class=\"colab-df-convert\" onclick=\"convertToInteractive('df-98f5e1ad-63b6-4b10-a3cc-321185daa0d9')\"\n",
              "            title=\"Convert this dataframe to an interactive table.\"\n",
              "            style=\"display:none;\">\n",
              "\n",
              "  <svg xmlns=\"http://www.w3.org/2000/svg\" height=\"24px\" viewBox=\"0 -960 960 960\">\n",
              "    <path d=\"M120-120v-720h720v720H120Zm60-500h600v-160H180v160Zm220 220h160v-160H400v160Zm0 220h160v-160H400v160ZM180-400h160v-160H180v160Zm440 0h160v-160H620v160ZM180-180h160v-160H180v160Zm440 0h160v-160H620v160Z\"/>\n",
              "  </svg>\n",
              "    </button>\n",
              "\n",
              "  <style>\n",
              "    .colab-df-container {\n",
              "      display:flex;\n",
              "      gap: 12px;\n",
              "    }\n",
              "\n",
              "    .colab-df-convert {\n",
              "      background-color: #E8F0FE;\n",
              "      border: none;\n",
              "      border-radius: 50%;\n",
              "      cursor: pointer;\n",
              "      display: none;\n",
              "      fill: #1967D2;\n",
              "      height: 32px;\n",
              "      padding: 0 0 0 0;\n",
              "      width: 32px;\n",
              "    }\n",
              "\n",
              "    .colab-df-convert:hover {\n",
              "      background-color: #E2EBFA;\n",
              "      box-shadow: 0px 1px 2px rgba(60, 64, 67, 0.3), 0px 1px 3px 1px rgba(60, 64, 67, 0.15);\n",
              "      fill: #174EA6;\n",
              "    }\n",
              "\n",
              "    .colab-df-buttons div {\n",
              "      margin-bottom: 4px;\n",
              "    }\n",
              "\n",
              "    [theme=dark] .colab-df-convert {\n",
              "      background-color: #3B4455;\n",
              "      fill: #D2E3FC;\n",
              "    }\n",
              "\n",
              "    [theme=dark] .colab-df-convert:hover {\n",
              "      background-color: #434B5C;\n",
              "      box-shadow: 0px 1px 3px 1px rgba(0, 0, 0, 0.15);\n",
              "      filter: drop-shadow(0px 1px 2px rgba(0, 0, 0, 0.3));\n",
              "      fill: #FFFFFF;\n",
              "    }\n",
              "  </style>\n",
              "\n",
              "    <script>\n",
              "      const buttonEl =\n",
              "        document.querySelector('#df-98f5e1ad-63b6-4b10-a3cc-321185daa0d9 button.colab-df-convert');\n",
              "      buttonEl.style.display =\n",
              "        google.colab.kernel.accessAllowed ? 'block' : 'none';\n",
              "\n",
              "      async function convertToInteractive(key) {\n",
              "        const element = document.querySelector('#df-98f5e1ad-63b6-4b10-a3cc-321185daa0d9');\n",
              "        const dataTable =\n",
              "          await google.colab.kernel.invokeFunction('convertToInteractive',\n",
              "                                                    [key], {});\n",
              "        if (!dataTable) return;\n",
              "\n",
              "        const docLinkHtml = 'Like what you see? Visit the ' +\n",
              "          '<a target=\"_blank\" href=https://colab.research.google.com/notebooks/data_table.ipynb>data table notebook</a>'\n",
              "          + ' to learn more about interactive tables.';\n",
              "        element.innerHTML = '';\n",
              "        dataTable['output_type'] = 'display_data';\n",
              "        await google.colab.output.renderOutput(dataTable, element);\n",
              "        const docLink = document.createElement('div');\n",
              "        docLink.innerHTML = docLinkHtml;\n",
              "        element.appendChild(docLink);\n",
              "      }\n",
              "    </script>\n",
              "  </div>\n",
              "\n",
              "\n",
              "<div id=\"df-0b7228ad-e278-42e2-a566-d71739f2311d\">\n",
              "  <button class=\"colab-df-quickchart\" onclick=\"quickchart('df-0b7228ad-e278-42e2-a566-d71739f2311d')\"\n",
              "            title=\"Suggest charts\"\n",
              "            style=\"display:none;\">\n",
              "\n",
              "<svg xmlns=\"http://www.w3.org/2000/svg\" height=\"24px\"viewBox=\"0 0 24 24\"\n",
              "     width=\"24px\">\n",
              "    <g>\n",
              "        <path d=\"M19 3H5c-1.1 0-2 .9-2 2v14c0 1.1.9 2 2 2h14c1.1 0 2-.9 2-2V5c0-1.1-.9-2-2-2zM9 17H7v-7h2v7zm4 0h-2V7h2v10zm4 0h-2v-4h2v4z\"/>\n",
              "    </g>\n",
              "</svg>\n",
              "  </button>\n",
              "\n",
              "<style>\n",
              "  .colab-df-quickchart {\n",
              "      --bg-color: #E8F0FE;\n",
              "      --fill-color: #1967D2;\n",
              "      --hover-bg-color: #E2EBFA;\n",
              "      --hover-fill-color: #174EA6;\n",
              "      --disabled-fill-color: #AAA;\n",
              "      --disabled-bg-color: #DDD;\n",
              "  }\n",
              "\n",
              "  [theme=dark] .colab-df-quickchart {\n",
              "      --bg-color: #3B4455;\n",
              "      --fill-color: #D2E3FC;\n",
              "      --hover-bg-color: #434B5C;\n",
              "      --hover-fill-color: #FFFFFF;\n",
              "      --disabled-bg-color: #3B4455;\n",
              "      --disabled-fill-color: #666;\n",
              "  }\n",
              "\n",
              "  .colab-df-quickchart {\n",
              "    background-color: var(--bg-color);\n",
              "    border: none;\n",
              "    border-radius: 50%;\n",
              "    cursor: pointer;\n",
              "    display: none;\n",
              "    fill: var(--fill-color);\n",
              "    height: 32px;\n",
              "    padding: 0;\n",
              "    width: 32px;\n",
              "  }\n",
              "\n",
              "  .colab-df-quickchart:hover {\n",
              "    background-color: var(--hover-bg-color);\n",
              "    box-shadow: 0 1px 2px rgba(60, 64, 67, 0.3), 0 1px 3px 1px rgba(60, 64, 67, 0.15);\n",
              "    fill: var(--button-hover-fill-color);\n",
              "  }\n",
              "\n",
              "  .colab-df-quickchart-complete:disabled,\n",
              "  .colab-df-quickchart-complete:disabled:hover {\n",
              "    background-color: var(--disabled-bg-color);\n",
              "    fill: var(--disabled-fill-color);\n",
              "    box-shadow: none;\n",
              "  }\n",
              "\n",
              "  .colab-df-spinner {\n",
              "    border: 2px solid var(--fill-color);\n",
              "    border-color: transparent;\n",
              "    border-bottom-color: var(--fill-color);\n",
              "    animation:\n",
              "      spin 1s steps(1) infinite;\n",
              "  }\n",
              "\n",
              "  @keyframes spin {\n",
              "    0% {\n",
              "      border-color: transparent;\n",
              "      border-bottom-color: var(--fill-color);\n",
              "      border-left-color: var(--fill-color);\n",
              "    }\n",
              "    20% {\n",
              "      border-color: transparent;\n",
              "      border-left-color: var(--fill-color);\n",
              "      border-top-color: var(--fill-color);\n",
              "    }\n",
              "    30% {\n",
              "      border-color: transparent;\n",
              "      border-left-color: var(--fill-color);\n",
              "      border-top-color: var(--fill-color);\n",
              "      border-right-color: var(--fill-color);\n",
              "    }\n",
              "    40% {\n",
              "      border-color: transparent;\n",
              "      border-right-color: var(--fill-color);\n",
              "      border-top-color: var(--fill-color);\n",
              "    }\n",
              "    60% {\n",
              "      border-color: transparent;\n",
              "      border-right-color: var(--fill-color);\n",
              "    }\n",
              "    80% {\n",
              "      border-color: transparent;\n",
              "      border-right-color: var(--fill-color);\n",
              "      border-bottom-color: var(--fill-color);\n",
              "    }\n",
              "    90% {\n",
              "      border-color: transparent;\n",
              "      border-bottom-color: var(--fill-color);\n",
              "    }\n",
              "  }\n",
              "</style>\n",
              "\n",
              "  <script>\n",
              "    async function quickchart(key) {\n",
              "      const quickchartButtonEl =\n",
              "        document.querySelector('#' + key + ' button');\n",
              "      quickchartButtonEl.disabled = true;  // To prevent multiple clicks.\n",
              "      quickchartButtonEl.classList.add('colab-df-spinner');\n",
              "      try {\n",
              "        const charts = await google.colab.kernel.invokeFunction(\n",
              "            'suggestCharts', [key], {});\n",
              "      } catch (error) {\n",
              "        console.error('Error during call to suggestCharts:', error);\n",
              "      }\n",
              "      quickchartButtonEl.classList.remove('colab-df-spinner');\n",
              "      quickchartButtonEl.classList.add('colab-df-quickchart-complete');\n",
              "    }\n",
              "    (() => {\n",
              "      let quickchartButtonEl =\n",
              "        document.querySelector('#df-0b7228ad-e278-42e2-a566-d71739f2311d button');\n",
              "      quickchartButtonEl.style.display =\n",
              "        google.colab.kernel.accessAllowed ? 'block' : 'none';\n",
              "    })();\n",
              "  </script>\n",
              "</div>\n",
              "\n",
              "  <div id=\"id_5eae9467-46fa-478a-a9cc-e840c6584229\">\n",
              "    <style>\n",
              "      .colab-df-generate {\n",
              "        background-color: #E8F0FE;\n",
              "        border: none;\n",
              "        border-radius: 50%;\n",
              "        cursor: pointer;\n",
              "        display: none;\n",
              "        fill: #1967D2;\n",
              "        height: 32px;\n",
              "        padding: 0 0 0 0;\n",
              "        width: 32px;\n",
              "      }\n",
              "\n",
              "      .colab-df-generate:hover {\n",
              "        background-color: #E2EBFA;\n",
              "        box-shadow: 0px 1px 2px rgba(60, 64, 67, 0.3), 0px 1px 3px 1px rgba(60, 64, 67, 0.15);\n",
              "        fill: #174EA6;\n",
              "      }\n",
              "\n",
              "      [theme=dark] .colab-df-generate {\n",
              "        background-color: #3B4455;\n",
              "        fill: #D2E3FC;\n",
              "      }\n",
              "\n",
              "      [theme=dark] .colab-df-generate:hover {\n",
              "        background-color: #434B5C;\n",
              "        box-shadow: 0px 1px 3px 1px rgba(0, 0, 0, 0.15);\n",
              "        filter: drop-shadow(0px 1px 2px rgba(0, 0, 0, 0.3));\n",
              "        fill: #FFFFFF;\n",
              "      }\n",
              "    </style>\n",
              "    <button class=\"colab-df-generate\" onclick=\"generateWithVariable('df')\"\n",
              "            title=\"Generate code using this dataframe.\"\n",
              "            style=\"display:none;\">\n",
              "\n",
              "  <svg xmlns=\"http://www.w3.org/2000/svg\" height=\"24px\"viewBox=\"0 0 24 24\"\n",
              "       width=\"24px\">\n",
              "    <path d=\"M7,19H8.4L18.45,9,17,7.55,7,17.6ZM5,21V16.75L18.45,3.32a2,2,0,0,1,2.83,0l1.4,1.43a1.91,1.91,0,0,1,.58,1.4,1.91,1.91,0,0,1-.58,1.4L9.25,21ZM18.45,9,17,7.55Zm-12,3A5.31,5.31,0,0,0,4.9,8.1,5.31,5.31,0,0,0,1,6.5,5.31,5.31,0,0,0,4.9,4.9,5.31,5.31,0,0,0,6.5,1,5.31,5.31,0,0,0,8.1,4.9,5.31,5.31,0,0,0,12,6.5,5.46,5.46,0,0,0,6.5,12Z\"/>\n",
              "  </svg>\n",
              "    </button>\n",
              "    <script>\n",
              "      (() => {\n",
              "      const buttonEl =\n",
              "        document.querySelector('#id_5eae9467-46fa-478a-a9cc-e840c6584229 button.colab-df-generate');\n",
              "      buttonEl.style.display =\n",
              "        google.colab.kernel.accessAllowed ? 'block' : 'none';\n",
              "\n",
              "      buttonEl.onclick = () => {\n",
              "        google.colab.notebook.generateWithVariable('df');\n",
              "      }\n",
              "      })();\n",
              "    </script>\n",
              "  </div>\n",
              "\n",
              "    </div>\n",
              "  </div>\n"
            ],
            "application/vnd.google.colaboratory.intrinsic+json": {
              "type": "dataframe",
              "variable_name": "df",
              "summary": "{\n  \"name\": \"df\",\n  \"rows\": 6308,\n  \"fields\": [\n    {\n      \"column\": \"car name\",\n      \"properties\": {\n        \"dtype\": \"category\",\n        \"num_unique_values\": 2546,\n        \"samples\": [\n          \"Volvo XC60 2021 2.0T T5 FWD Momentum\",\n          \"Ford Explorer 2021 3.5L V6 Base\",\n          \"Volvo XC60 2021 2.0T T5 AWD Inscription\"\n        ],\n        \"semantic_type\": \"\",\n        \"description\": \"\"\n      }\n    },\n    {\n      \"column\": \"price\",\n      \"properties\": {\n        \"dtype\": \"number\",\n        \"std\": 41331.121477610184,\n        \"min\": 2880.0,\n        \"max\": 159383.23352572558,\n        \"num_unique_values\": 2667,\n        \"samples\": [\n          31049.730000000003,\n          55900.0,\n          146070.0\n        ],\n        \"semantic_type\": \"\",\n        \"description\": \"\"\n      }\n    },\n    {\n      \"column\": \"engine_capacity\",\n      \"properties\": {\n        \"dtype\": \"number\",\n        \"std\": 1.657117258953303,\n        \"min\": 0.0,\n        \"max\": 7.0,\n        \"num_unique_values\": 52,\n        \"samples\": [\n          2.4,\n          5.5,\n          1.9\n        ],\n        \"semantic_type\": \"\",\n        \"description\": \"\"\n      }\n    },\n    {\n      \"column\": \"cylinder\",\n      \"properties\": {\n        \"dtype\": \"Int64\",\n        \"num_unique_values\": 7,\n        \"samples\": [\n          1,\n          4,\n          3\n        ],\n        \"semantic_type\": \"\",\n        \"description\": \"\"\n      }\n    },\n    {\n      \"column\": \"horse_power\",\n      \"properties\": {\n        \"dtype\": \"number\",\n        \"std\": 146.5000926741869,\n        \"min\": 12.0,\n        \"max\": 665.5,\n        \"num_unique_values\": 324,\n        \"samples\": [\n          167.0,\n          194.0,\n          205.0\n        ],\n        \"semantic_type\": \"\",\n        \"description\": \"\"\n      }\n    },\n    {\n      \"column\": \"top_speed\",\n      \"properties\": {\n        \"dtype\": \"number\",\n        \"std\": 41.03785679263267,\n        \"min\": 120.0,\n        \"max\": 343.0,\n        \"num_unique_values\": 153,\n        \"samples\": [\n          234.0,\n          191.0,\n          264.0\n        ],\n        \"semantic_type\": \"\",\n        \"description\": \"\"\n      }\n    },\n    {\n      \"column\": \"seats\",\n      \"properties\": {\n        \"dtype\": \"Int64\",\n        \"num_unique_values\": 19,\n        \"samples\": [\n          16,\n          2,\n          3\n        ],\n        \"semantic_type\": \"\",\n        \"description\": \"\"\n      }\n    },\n    {\n      \"column\": \"brand\",\n      \"properties\": {\n        \"dtype\": \"number\",\n        \"std\": 22,\n        \"min\": 0,\n        \"max\": 81,\n        \"num_unique_values\": 82,\n        \"samples\": [\n          36,\n          25,\n          45\n        ],\n        \"semantic_type\": \"\",\n        \"description\": \"\"\n      }\n    },\n    {\n      \"column\": \"country_bahrain\",\n      \"properties\": {\n        \"dtype\": \"boolean\",\n        \"num_unique_values\": 2,\n        \"samples\": [\n          true,\n          false\n        ],\n        \"semantic_type\": \"\",\n        \"description\": \"\"\n      }\n    },\n    {\n      \"column\": \"country_egypt\",\n      \"properties\": {\n        \"dtype\": \"boolean\",\n        \"num_unique_values\": 2,\n        \"samples\": [\n          true,\n          false\n        ],\n        \"semantic_type\": \"\",\n        \"description\": \"\"\n      }\n    },\n    {\n      \"column\": \"country_ksa\",\n      \"properties\": {\n        \"dtype\": \"boolean\",\n        \"num_unique_values\": 2,\n        \"samples\": [\n          false,\n          true\n        ],\n        \"semantic_type\": \"\",\n        \"description\": \"\"\n      }\n    },\n    {\n      \"column\": \"country_kuwait\",\n      \"properties\": {\n        \"dtype\": \"boolean\",\n        \"num_unique_values\": 2,\n        \"samples\": [\n          true,\n          false\n        ],\n        \"semantic_type\": \"\",\n        \"description\": \"\"\n      }\n    },\n    {\n      \"column\": \"country_oman\",\n      \"properties\": {\n        \"dtype\": \"boolean\",\n        \"num_unique_values\": 2,\n        \"samples\": [\n          true,\n          false\n        ],\n        \"semantic_type\": \"\",\n        \"description\": \"\"\n      }\n    },\n    {\n      \"column\": \"country_qatar\",\n      \"properties\": {\n        \"dtype\": \"boolean\",\n        \"num_unique_values\": 2,\n        \"samples\": [\n          true,\n          false\n        ],\n        \"semantic_type\": \"\",\n        \"description\": \"\"\n      }\n    },\n    {\n      \"column\": \"country_uae\",\n      \"properties\": {\n        \"dtype\": \"boolean\",\n        \"num_unique_values\": 2,\n        \"samples\": [\n          true,\n          false\n        ],\n        \"semantic_type\": \"\",\n        \"description\": \"\"\n      }\n    }\n  ]\n}"
            }
          },
          "metadata": {},
          "execution_count": 132
        }
      ],
      "source": [
        "# Encode the brand in labels.\n",
        "label_encoder = LabelEncoder()\n",
        "\n",
        "df['brand'] = label_encoder.fit_transform(df['brand'])\n",
        "\n",
        "df"
      ]
    },
    {
      "cell_type": "markdown",
      "metadata": {
        "id": "IYH302OmeSdo"
      },
      "source": [
        "\n",
        "\n",
        "---\n",
        "\n"
      ]
    },
    {
      "cell_type": "code",
      "execution_count": 133,
      "metadata": {
        "colab": {
          "base_uri": "https://localhost:8080/",
          "height": 300
        },
        "id": "MyIMkKJzR41o",
        "outputId": "5b5164a2-733a-42db-eb14-10ffc7b829ac"
      },
      "outputs": [
        {
          "output_type": "execute_result",
          "data": {
            "text/plain": [
              "               price  engine_capacity  cylinder  horse_power    top_speed  \\\n",
              "count    6308.000000      6308.000000    6308.0  6308.000000  6308.000000   \n",
              "mean    63017.626170         3.121259  5.110178   288.032521   220.255073   \n",
              "std     41331.121478         1.657117  1.689296   146.500093    41.037857   \n",
              "min      2880.000000         0.000000       1.0    12.000000   120.000000   \n",
              "25%     27824.337500         2.000000       4.0   168.000000   188.000000   \n",
              "50%     58050.000000         2.700000       4.0   255.000000   211.000000   \n",
              "75%     80447.895910         4.000000       6.0   367.000000   250.000000   \n",
              "max    159383.233526         7.000000       9.0   665.500000   343.000000   \n",
              "\n",
              "          seats        brand  \n",
              "count    6308.0  6308.000000  \n",
              "mean   5.167724    41.851617  \n",
              "std    1.928258    22.469249  \n",
              "min         2.0     0.000000  \n",
              "25%         5.0    25.000000  \n",
              "50%         5.0    46.000000  \n",
              "75%         5.0    60.000000  \n",
              "max        20.0    81.000000  "
            ],
            "text/html": [
              "\n",
              "  <div id=\"df-6beed58a-0069-45a5-9b61-d3ed52c3db9b\" class=\"colab-df-container\">\n",
              "    <div>\n",
              "<style scoped>\n",
              "    .dataframe tbody tr th:only-of-type {\n",
              "        vertical-align: middle;\n",
              "    }\n",
              "\n",
              "    .dataframe tbody tr th {\n",
              "        vertical-align: top;\n",
              "    }\n",
              "\n",
              "    .dataframe thead th {\n",
              "        text-align: right;\n",
              "    }\n",
              "</style>\n",
              "<table border=\"1\" class=\"dataframe\">\n",
              "  <thead>\n",
              "    <tr style=\"text-align: right;\">\n",
              "      <th></th>\n",
              "      <th>price</th>\n",
              "      <th>engine_capacity</th>\n",
              "      <th>cylinder</th>\n",
              "      <th>horse_power</th>\n",
              "      <th>top_speed</th>\n",
              "      <th>seats</th>\n",
              "      <th>brand</th>\n",
              "    </tr>\n",
              "  </thead>\n",
              "  <tbody>\n",
              "    <tr>\n",
              "      <th>count</th>\n",
              "      <td>6308.000000</td>\n",
              "      <td>6308.000000</td>\n",
              "      <td>6308.0</td>\n",
              "      <td>6308.000000</td>\n",
              "      <td>6308.000000</td>\n",
              "      <td>6308.0</td>\n",
              "      <td>6308.000000</td>\n",
              "    </tr>\n",
              "    <tr>\n",
              "      <th>mean</th>\n",
              "      <td>63017.626170</td>\n",
              "      <td>3.121259</td>\n",
              "      <td>5.110178</td>\n",
              "      <td>288.032521</td>\n",
              "      <td>220.255073</td>\n",
              "      <td>5.167724</td>\n",
              "      <td>41.851617</td>\n",
              "    </tr>\n",
              "    <tr>\n",
              "      <th>std</th>\n",
              "      <td>41331.121478</td>\n",
              "      <td>1.657117</td>\n",
              "      <td>1.689296</td>\n",
              "      <td>146.500093</td>\n",
              "      <td>41.037857</td>\n",
              "      <td>1.928258</td>\n",
              "      <td>22.469249</td>\n",
              "    </tr>\n",
              "    <tr>\n",
              "      <th>min</th>\n",
              "      <td>2880.000000</td>\n",
              "      <td>0.000000</td>\n",
              "      <td>1.0</td>\n",
              "      <td>12.000000</td>\n",
              "      <td>120.000000</td>\n",
              "      <td>2.0</td>\n",
              "      <td>0.000000</td>\n",
              "    </tr>\n",
              "    <tr>\n",
              "      <th>25%</th>\n",
              "      <td>27824.337500</td>\n",
              "      <td>2.000000</td>\n",
              "      <td>4.0</td>\n",
              "      <td>168.000000</td>\n",
              "      <td>188.000000</td>\n",
              "      <td>5.0</td>\n",
              "      <td>25.000000</td>\n",
              "    </tr>\n",
              "    <tr>\n",
              "      <th>50%</th>\n",
              "      <td>58050.000000</td>\n",
              "      <td>2.700000</td>\n",
              "      <td>4.0</td>\n",
              "      <td>255.000000</td>\n",
              "      <td>211.000000</td>\n",
              "      <td>5.0</td>\n",
              "      <td>46.000000</td>\n",
              "    </tr>\n",
              "    <tr>\n",
              "      <th>75%</th>\n",
              "      <td>80447.895910</td>\n",
              "      <td>4.000000</td>\n",
              "      <td>6.0</td>\n",
              "      <td>367.000000</td>\n",
              "      <td>250.000000</td>\n",
              "      <td>5.0</td>\n",
              "      <td>60.000000</td>\n",
              "    </tr>\n",
              "    <tr>\n",
              "      <th>max</th>\n",
              "      <td>159383.233526</td>\n",
              "      <td>7.000000</td>\n",
              "      <td>9.0</td>\n",
              "      <td>665.500000</td>\n",
              "      <td>343.000000</td>\n",
              "      <td>20.0</td>\n",
              "      <td>81.000000</td>\n",
              "    </tr>\n",
              "  </tbody>\n",
              "</table>\n",
              "</div>\n",
              "    <div class=\"colab-df-buttons\">\n",
              "\n",
              "  <div class=\"colab-df-container\">\n",
              "    <button class=\"colab-df-convert\" onclick=\"convertToInteractive('df-6beed58a-0069-45a5-9b61-d3ed52c3db9b')\"\n",
              "            title=\"Convert this dataframe to an interactive table.\"\n",
              "            style=\"display:none;\">\n",
              "\n",
              "  <svg xmlns=\"http://www.w3.org/2000/svg\" height=\"24px\" viewBox=\"0 -960 960 960\">\n",
              "    <path d=\"M120-120v-720h720v720H120Zm60-500h600v-160H180v160Zm220 220h160v-160H400v160Zm0 220h160v-160H400v160ZM180-400h160v-160H180v160Zm440 0h160v-160H620v160ZM180-180h160v-160H180v160Zm440 0h160v-160H620v160Z\"/>\n",
              "  </svg>\n",
              "    </button>\n",
              "\n",
              "  <style>\n",
              "    .colab-df-container {\n",
              "      display:flex;\n",
              "      gap: 12px;\n",
              "    }\n",
              "\n",
              "    .colab-df-convert {\n",
              "      background-color: #E8F0FE;\n",
              "      border: none;\n",
              "      border-radius: 50%;\n",
              "      cursor: pointer;\n",
              "      display: none;\n",
              "      fill: #1967D2;\n",
              "      height: 32px;\n",
              "      padding: 0 0 0 0;\n",
              "      width: 32px;\n",
              "    }\n",
              "\n",
              "    .colab-df-convert:hover {\n",
              "      background-color: #E2EBFA;\n",
              "      box-shadow: 0px 1px 2px rgba(60, 64, 67, 0.3), 0px 1px 3px 1px rgba(60, 64, 67, 0.15);\n",
              "      fill: #174EA6;\n",
              "    }\n",
              "\n",
              "    .colab-df-buttons div {\n",
              "      margin-bottom: 4px;\n",
              "    }\n",
              "\n",
              "    [theme=dark] .colab-df-convert {\n",
              "      background-color: #3B4455;\n",
              "      fill: #D2E3FC;\n",
              "    }\n",
              "\n",
              "    [theme=dark] .colab-df-convert:hover {\n",
              "      background-color: #434B5C;\n",
              "      box-shadow: 0px 1px 3px 1px rgba(0, 0, 0, 0.15);\n",
              "      filter: drop-shadow(0px 1px 2px rgba(0, 0, 0, 0.3));\n",
              "      fill: #FFFFFF;\n",
              "    }\n",
              "  </style>\n",
              "\n",
              "    <script>\n",
              "      const buttonEl =\n",
              "        document.querySelector('#df-6beed58a-0069-45a5-9b61-d3ed52c3db9b button.colab-df-convert');\n",
              "      buttonEl.style.display =\n",
              "        google.colab.kernel.accessAllowed ? 'block' : 'none';\n",
              "\n",
              "      async function convertToInteractive(key) {\n",
              "        const element = document.querySelector('#df-6beed58a-0069-45a5-9b61-d3ed52c3db9b');\n",
              "        const dataTable =\n",
              "          await google.colab.kernel.invokeFunction('convertToInteractive',\n",
              "                                                    [key], {});\n",
              "        if (!dataTable) return;\n",
              "\n",
              "        const docLinkHtml = 'Like what you see? Visit the ' +\n",
              "          '<a target=\"_blank\" href=https://colab.research.google.com/notebooks/data_table.ipynb>data table notebook</a>'\n",
              "          + ' to learn more about interactive tables.';\n",
              "        element.innerHTML = '';\n",
              "        dataTable['output_type'] = 'display_data';\n",
              "        await google.colab.output.renderOutput(dataTable, element);\n",
              "        const docLink = document.createElement('div');\n",
              "        docLink.innerHTML = docLinkHtml;\n",
              "        element.appendChild(docLink);\n",
              "      }\n",
              "    </script>\n",
              "  </div>\n",
              "\n",
              "\n",
              "<div id=\"df-6c44738d-f4fd-4c35-abe5-06023a02a8eb\">\n",
              "  <button class=\"colab-df-quickchart\" onclick=\"quickchart('df-6c44738d-f4fd-4c35-abe5-06023a02a8eb')\"\n",
              "            title=\"Suggest charts\"\n",
              "            style=\"display:none;\">\n",
              "\n",
              "<svg xmlns=\"http://www.w3.org/2000/svg\" height=\"24px\"viewBox=\"0 0 24 24\"\n",
              "     width=\"24px\">\n",
              "    <g>\n",
              "        <path d=\"M19 3H5c-1.1 0-2 .9-2 2v14c0 1.1.9 2 2 2h14c1.1 0 2-.9 2-2V5c0-1.1-.9-2-2-2zM9 17H7v-7h2v7zm4 0h-2V7h2v10zm4 0h-2v-4h2v4z\"/>\n",
              "    </g>\n",
              "</svg>\n",
              "  </button>\n",
              "\n",
              "<style>\n",
              "  .colab-df-quickchart {\n",
              "      --bg-color: #E8F0FE;\n",
              "      --fill-color: #1967D2;\n",
              "      --hover-bg-color: #E2EBFA;\n",
              "      --hover-fill-color: #174EA6;\n",
              "      --disabled-fill-color: #AAA;\n",
              "      --disabled-bg-color: #DDD;\n",
              "  }\n",
              "\n",
              "  [theme=dark] .colab-df-quickchart {\n",
              "      --bg-color: #3B4455;\n",
              "      --fill-color: #D2E3FC;\n",
              "      --hover-bg-color: #434B5C;\n",
              "      --hover-fill-color: #FFFFFF;\n",
              "      --disabled-bg-color: #3B4455;\n",
              "      --disabled-fill-color: #666;\n",
              "  }\n",
              "\n",
              "  .colab-df-quickchart {\n",
              "    background-color: var(--bg-color);\n",
              "    border: none;\n",
              "    border-radius: 50%;\n",
              "    cursor: pointer;\n",
              "    display: none;\n",
              "    fill: var(--fill-color);\n",
              "    height: 32px;\n",
              "    padding: 0;\n",
              "    width: 32px;\n",
              "  }\n",
              "\n",
              "  .colab-df-quickchart:hover {\n",
              "    background-color: var(--hover-bg-color);\n",
              "    box-shadow: 0 1px 2px rgba(60, 64, 67, 0.3), 0 1px 3px 1px rgba(60, 64, 67, 0.15);\n",
              "    fill: var(--button-hover-fill-color);\n",
              "  }\n",
              "\n",
              "  .colab-df-quickchart-complete:disabled,\n",
              "  .colab-df-quickchart-complete:disabled:hover {\n",
              "    background-color: var(--disabled-bg-color);\n",
              "    fill: var(--disabled-fill-color);\n",
              "    box-shadow: none;\n",
              "  }\n",
              "\n",
              "  .colab-df-spinner {\n",
              "    border: 2px solid var(--fill-color);\n",
              "    border-color: transparent;\n",
              "    border-bottom-color: var(--fill-color);\n",
              "    animation:\n",
              "      spin 1s steps(1) infinite;\n",
              "  }\n",
              "\n",
              "  @keyframes spin {\n",
              "    0% {\n",
              "      border-color: transparent;\n",
              "      border-bottom-color: var(--fill-color);\n",
              "      border-left-color: var(--fill-color);\n",
              "    }\n",
              "    20% {\n",
              "      border-color: transparent;\n",
              "      border-left-color: var(--fill-color);\n",
              "      border-top-color: var(--fill-color);\n",
              "    }\n",
              "    30% {\n",
              "      border-color: transparent;\n",
              "      border-left-color: var(--fill-color);\n",
              "      border-top-color: var(--fill-color);\n",
              "      border-right-color: var(--fill-color);\n",
              "    }\n",
              "    40% {\n",
              "      border-color: transparent;\n",
              "      border-right-color: var(--fill-color);\n",
              "      border-top-color: var(--fill-color);\n",
              "    }\n",
              "    60% {\n",
              "      border-color: transparent;\n",
              "      border-right-color: var(--fill-color);\n",
              "    }\n",
              "    80% {\n",
              "      border-color: transparent;\n",
              "      border-right-color: var(--fill-color);\n",
              "      border-bottom-color: var(--fill-color);\n",
              "    }\n",
              "    90% {\n",
              "      border-color: transparent;\n",
              "      border-bottom-color: var(--fill-color);\n",
              "    }\n",
              "  }\n",
              "</style>\n",
              "\n",
              "  <script>\n",
              "    async function quickchart(key) {\n",
              "      const quickchartButtonEl =\n",
              "        document.querySelector('#' + key + ' button');\n",
              "      quickchartButtonEl.disabled = true;  // To prevent multiple clicks.\n",
              "      quickchartButtonEl.classList.add('colab-df-spinner');\n",
              "      try {\n",
              "        const charts = await google.colab.kernel.invokeFunction(\n",
              "            'suggestCharts', [key], {});\n",
              "      } catch (error) {\n",
              "        console.error('Error during call to suggestCharts:', error);\n",
              "      }\n",
              "      quickchartButtonEl.classList.remove('colab-df-spinner');\n",
              "      quickchartButtonEl.classList.add('colab-df-quickchart-complete');\n",
              "    }\n",
              "    (() => {\n",
              "      let quickchartButtonEl =\n",
              "        document.querySelector('#df-6c44738d-f4fd-4c35-abe5-06023a02a8eb button');\n",
              "      quickchartButtonEl.style.display =\n",
              "        google.colab.kernel.accessAllowed ? 'block' : 'none';\n",
              "    })();\n",
              "  </script>\n",
              "</div>\n",
              "\n",
              "    </div>\n",
              "  </div>\n"
            ],
            "application/vnd.google.colaboratory.intrinsic+json": {
              "type": "dataframe",
              "summary": "{\n  \"name\": \"df\",\n  \"rows\": 8,\n  \"fields\": [\n    {\n      \"column\": \"price\",\n      \"properties\": {\n        \"dtype\": \"number\",\n        \"std\": 50184.98357288522,\n        \"min\": 2880.0,\n        \"max\": 159383.23352572558,\n        \"num_unique_values\": 8,\n        \"samples\": [\n          63017.62616967471,\n          58050.00000000001,\n          6308.0\n        ],\n        \"semantic_type\": \"\",\n        \"description\": \"\"\n      }\n    },\n    {\n      \"column\": \"engine_capacity\",\n      \"properties\": {\n        \"dtype\": \"number\",\n        \"std\": 2229.1813987230794,\n        \"min\": 0.0,\n        \"max\": 6308.0,\n        \"num_unique_values\": 8,\n        \"samples\": [\n          3.121258719086874,\n          2.7,\n          6308.0\n        ],\n        \"semantic_type\": \"\",\n        \"description\": \"\"\n      }\n    },\n    {\n      \"column\": \"cylinder\",\n      \"properties\": {\n        \"dtype\": \"Float64\",\n        \"num_unique_values\": 7,\n        \"samples\": [\n          6308.0,\n          5.110177552314521,\n          6.0\n        ],\n        \"semantic_type\": \"\",\n        \"description\": \"\"\n      }\n    },\n    {\n      \"column\": \"horse_power\",\n      \"properties\": {\n        \"dtype\": \"number\",\n        \"std\": 2142.784630867189,\n        \"min\": 12.0,\n        \"max\": 6308.0,\n        \"num_unique_values\": 8,\n        \"samples\": [\n          288.0325214358305,\n          255.0,\n          6308.0\n        ],\n        \"semantic_type\": \"\",\n        \"description\": \"\"\n      }\n    },\n    {\n      \"column\": \"top_speed\",\n      \"properties\": {\n        \"dtype\": \"number\",\n        \"std\": 2162.6766408063354,\n        \"min\": 41.03785679263267,\n        \"max\": 6308.0,\n        \"num_unique_values\": 8,\n        \"samples\": [\n          220.25507292327202,\n          211.0,\n          6308.0\n        ],\n        \"semantic_type\": \"\",\n        \"description\": \"\"\n      }\n    },\n    {\n      \"column\": \"seats\",\n      \"properties\": {\n        \"dtype\": \"Float64\",\n        \"num_unique_values\": 6,\n        \"samples\": [\n          6308.0,\n          5.167723525681674,\n          20.0\n        ],\n        \"semantic_type\": \"\",\n        \"description\": \"\"\n      }\n    },\n    {\n      \"column\": \"brand\",\n      \"properties\": {\n        \"dtype\": \"number\",\n        \"std\": 2216.3954735667626,\n        \"min\": 0.0,\n        \"max\": 6308.0,\n        \"num_unique_values\": 8,\n        \"samples\": [\n          41.85161699429296,\n          46.0,\n          6308.0\n        ],\n        \"semantic_type\": \"\",\n        \"description\": \"\"\n      }\n    }\n  ]\n}"
            }
          },
          "metadata": {},
          "execution_count": 133
        }
      ],
      "source": [
        "df.describe()"
      ]
    },
    {
      "cell_type": "markdown",
      "metadata": {
        "id": "HU1Gwel3zDfe"
      },
      "source": [
        "### 1.2.3 Normalizing."
      ]
    },
    {
      "cell_type": "markdown",
      "metadata": {
        "id": "C5LIUa6JeVvE"
      },
      "source": [
        "To ensure consistent scaling across features, numerical columns were normalized using z-score normalization via the StandardScaler. This step standardized the columns to have a mean of 0 and a standard deviation of 1, which helps prevent features with larger ranges (e.g., price) from dominating those with smaller ranges (e.g., engine_capacity) during model training."
      ]
    },
    {
      "cell_type": "code",
      "execution_count": 134,
      "metadata": {
        "colab": {
          "base_uri": "https://localhost:8080/"
        },
        "id": "BLkvNwCbTwsd",
        "outputId": "5fa87674-f925-4ef2-8246-097689ace401"
      },
      "outputs": [
        {
          "output_type": "stream",
          "name": "stdout",
          "text": [
            "   engine_capacity  cylinder  top_speed  horse_power     seats     brand  \\\n",
            "0        -1.883697 -2.433264  -0.225543    -1.214714  5.618095 -0.750045   \n",
            "1        -0.676686 -0.657235  -0.225543    -0.737481  1.468943  0.896780   \n",
            "2        -0.978438 -0.657235  -1.833942    -1.269946 -0.605633  1.430886   \n",
            "3        -0.495634 -0.657235  -0.225543     0.900873 -0.605633 -0.705536   \n",
            "4        -0.797387 -0.657235  -0.737306    -1.010540 -0.086989 -0.393975   \n",
            "\n",
            "      price  \n",
            "0  0.530911  \n",
            "1 -0.606428  \n",
            "2 -0.879448  \n",
            "3 -0.231264  \n",
            "4  0.530911  \n"
          ]
        }
      ],
      "source": [
        "# 1. List of columns to normalize.\n",
        "columns_to_normalize = ['engine_capacity', 'cylinder', 'top_speed','horse_power','seats','brand', 'price']\n",
        "\n",
        "scaler = StandardScaler()\n",
        "# 2. Apply z-score normalization to the specified columns.\n",
        "df[columns_to_normalize] = scaler.fit_transform(df[columns_to_normalize])\n",
        "\n",
        "print(df[columns_to_normalize].head())"
      ]
    },
    {
      "cell_type": "code",
      "execution_count": 135,
      "metadata": {
        "id": "QcEMWdj0oeRG"
      },
      "outputs": [],
      "source": [
        "df=df.astype({'country_bahrain': 'int', 'country_egypt': 'int',\n",
        "                          'country_ksa': 'int', 'country_kuwait': 'int',\n",
        "                          'country_oman': 'int', 'country_qatar': 'int',\n",
        "                          'country_uae': 'int'})\n",
        "df['seats'] = df['seats'].astype('int64')"
      ]
    },
    {
      "cell_type": "markdown",
      "metadata": {
        "id": "qnOHxTtgesZi"
      },
      "source": [
        "\n",
        "\n",
        "---\n",
        "\n"
      ]
    },
    {
      "cell_type": "markdown",
      "metadata": {
        "id": "YVH45a8Zq056"
      },
      "source": [
        "### 1.2.4 Spliting Data."
      ]
    },
    {
      "cell_type": "markdown",
      "metadata": {
        "id": "IVwP4oUpeu3W"
      },
      "source": [
        "To build and evaluate regression models effectively, the dataset was split into three subsets: training, validation, and test sets. This ensures that:\n",
        "\n",
        "*   Training Set is used to fit the model.\n",
        "*   Validation Set is used to tune hyperparameters and select the best model.\n",
        "*   Test Set is used for final evaluation to assess the model's generalization performance."
      ]
    },
    {
      "cell_type": "code",
      "execution_count": 136,
      "metadata": {
        "colab": {
          "base_uri": "https://localhost:8080/"
        },
        "id": "j8_0ogvrq4yo",
        "outputId": "fb30ba38-b8c3-4403-e04e-ffd20267ae8a"
      },
      "outputs": [
        {
          "output_type": "stream",
          "name": "stdout",
          "text": [
            "Training data size: 3784 samples\n",
            "Validation data size: 1262 samples\n",
            "Test data size: 1262 samples\n"
          ]
        }
      ],
      "source": [
        "# Define features (X) and target (y).\n",
        "X = df.drop(columns=['price','car name'])\n",
        "y = df['price']\n",
        "\n",
        "# Split data into training (60%) and temporary (40%) sets.\n",
        "X_train, X_temp, y_train, y_temp = train_test_split(X, y, test_size=0.4, random_state=42)\n",
        "\n",
        "# Split the temporary set into validation (20%) and test (20%) sets.\n",
        "X_val, X_test, y_val, y_test = train_test_split(X_temp, y_temp, test_size=0.5, random_state=42)\n",
        "\n",
        "# Convert subsets to NumPy arrays for compatibility with custom models.\n",
        "X_train_np = X_train.values\n",
        "X_val_np = X_val.values\n",
        "y_train_np = y_train.values\n",
        "y_val_np = y_val.values\n",
        "\n",
        "# Print out the sizes of the resulting sets.\n",
        "print(f\"Training data size: {X_train.shape[0]} samples\")\n",
        "print(f\"Validation data size: {X_val.shape[0]} samples\")\n",
        "print(f\"Test data size: {X_test.shape[0]} samples\")"
      ]
    },
    {
      "cell_type": "markdown",
      "metadata": {
        "id": "LZVtsRygfTk5"
      },
      "source": [
        "\n",
        "\n",
        "---\n",
        "\n"
      ]
    },
    {
      "cell_type": "markdown",
      "metadata": {
        "id": "mL_OAM5Ma-lH"
      },
      "source": [
        "# 2**. Building Regression Models**.\n",
        "\n",
        "\n"
      ]
    },
    {
      "cell_type": "markdown",
      "metadata": {
        "id": "X_6UXkZ9udtk"
      },
      "source": [
        "## 2.1 Linear Models."
      ]
    },
    {
      "cell_type": "markdown",
      "metadata": {
        "id": "ConhYpgli--Y"
      },
      "source": [
        "###2.1.1 Built-in Linear Regression."
      ]
    },
    {
      "cell_type": "markdown",
      "metadata": {
        "id": "3wbwmnAjmmKI"
      },
      "source": [
        "We used sklearn's LinearRegression to implement a baseline linear regression model. This built-in model computes the coefficients that minimize the residual sum of squares between the observed and predicted values of the target variable (price)."
      ]
    },
    {
      "cell_type": "code",
      "execution_count": 137,
      "metadata": {
        "colab": {
          "base_uri": "https://localhost:8080/",
          "height": 80
        },
        "id": "q-WXiRg-HgxM",
        "outputId": "6ec0fc2d-2444-4428-d889-f7f243b7d468"
      },
      "outputs": [
        {
          "output_type": "execute_result",
          "data": {
            "text/plain": [
              "LinearRegression()"
            ],
            "text/html": [
              "<style>#sk-container-id-4 {\n",
              "  /* Definition of color scheme common for light and dark mode */\n",
              "  --sklearn-color-text: black;\n",
              "  --sklearn-color-line: gray;\n",
              "  /* Definition of color scheme for unfitted estimators */\n",
              "  --sklearn-color-unfitted-level-0: #fff5e6;\n",
              "  --sklearn-color-unfitted-level-1: #f6e4d2;\n",
              "  --sklearn-color-unfitted-level-2: #ffe0b3;\n",
              "  --sklearn-color-unfitted-level-3: chocolate;\n",
              "  /* Definition of color scheme for fitted estimators */\n",
              "  --sklearn-color-fitted-level-0: #f0f8ff;\n",
              "  --sklearn-color-fitted-level-1: #d4ebff;\n",
              "  --sklearn-color-fitted-level-2: #b3dbfd;\n",
              "  --sklearn-color-fitted-level-3: cornflowerblue;\n",
              "\n",
              "  /* Specific color for light theme */\n",
              "  --sklearn-color-text-on-default-background: var(--sg-text-color, var(--theme-code-foreground, var(--jp-content-font-color1, black)));\n",
              "  --sklearn-color-background: var(--sg-background-color, var(--theme-background, var(--jp-layout-color0, white)));\n",
              "  --sklearn-color-border-box: var(--sg-text-color, var(--theme-code-foreground, var(--jp-content-font-color1, black)));\n",
              "  --sklearn-color-icon: #696969;\n",
              "\n",
              "  @media (prefers-color-scheme: dark) {\n",
              "    /* Redefinition of color scheme for dark theme */\n",
              "    --sklearn-color-text-on-default-background: var(--sg-text-color, var(--theme-code-foreground, var(--jp-content-font-color1, white)));\n",
              "    --sklearn-color-background: var(--sg-background-color, var(--theme-background, var(--jp-layout-color0, #111)));\n",
              "    --sklearn-color-border-box: var(--sg-text-color, var(--theme-code-foreground, var(--jp-content-font-color1, white)));\n",
              "    --sklearn-color-icon: #878787;\n",
              "  }\n",
              "}\n",
              "\n",
              "#sk-container-id-4 {\n",
              "  color: var(--sklearn-color-text);\n",
              "}\n",
              "\n",
              "#sk-container-id-4 pre {\n",
              "  padding: 0;\n",
              "}\n",
              "\n",
              "#sk-container-id-4 input.sk-hidden--visually {\n",
              "  border: 0;\n",
              "  clip: rect(1px 1px 1px 1px);\n",
              "  clip: rect(1px, 1px, 1px, 1px);\n",
              "  height: 1px;\n",
              "  margin: -1px;\n",
              "  overflow: hidden;\n",
              "  padding: 0;\n",
              "  position: absolute;\n",
              "  width: 1px;\n",
              "}\n",
              "\n",
              "#sk-container-id-4 div.sk-dashed-wrapped {\n",
              "  border: 1px dashed var(--sklearn-color-line);\n",
              "  margin: 0 0.4em 0.5em 0.4em;\n",
              "  box-sizing: border-box;\n",
              "  padding-bottom: 0.4em;\n",
              "  background-color: var(--sklearn-color-background);\n",
              "}\n",
              "\n",
              "#sk-container-id-4 div.sk-container {\n",
              "  /* jupyter's `normalize.less` sets `[hidden] { display: none; }`\n",
              "     but bootstrap.min.css set `[hidden] { display: none !important; }`\n",
              "     so we also need the `!important` here to be able to override the\n",
              "     default hidden behavior on the sphinx rendered scikit-learn.org.\n",
              "     See: https://github.com/scikit-learn/scikit-learn/issues/21755 */\n",
              "  display: inline-block !important;\n",
              "  position: relative;\n",
              "}\n",
              "\n",
              "#sk-container-id-4 div.sk-text-repr-fallback {\n",
              "  display: none;\n",
              "}\n",
              "\n",
              "div.sk-parallel-item,\n",
              "div.sk-serial,\n",
              "div.sk-item {\n",
              "  /* draw centered vertical line to link estimators */\n",
              "  background-image: linear-gradient(var(--sklearn-color-text-on-default-background), var(--sklearn-color-text-on-default-background));\n",
              "  background-size: 2px 100%;\n",
              "  background-repeat: no-repeat;\n",
              "  background-position: center center;\n",
              "}\n",
              "\n",
              "/* Parallel-specific style estimator block */\n",
              "\n",
              "#sk-container-id-4 div.sk-parallel-item::after {\n",
              "  content: \"\";\n",
              "  width: 100%;\n",
              "  border-bottom: 2px solid var(--sklearn-color-text-on-default-background);\n",
              "  flex-grow: 1;\n",
              "}\n",
              "\n",
              "#sk-container-id-4 div.sk-parallel {\n",
              "  display: flex;\n",
              "  align-items: stretch;\n",
              "  justify-content: center;\n",
              "  background-color: var(--sklearn-color-background);\n",
              "  position: relative;\n",
              "}\n",
              "\n",
              "#sk-container-id-4 div.sk-parallel-item {\n",
              "  display: flex;\n",
              "  flex-direction: column;\n",
              "}\n",
              "\n",
              "#sk-container-id-4 div.sk-parallel-item:first-child::after {\n",
              "  align-self: flex-end;\n",
              "  width: 50%;\n",
              "}\n",
              "\n",
              "#sk-container-id-4 div.sk-parallel-item:last-child::after {\n",
              "  align-self: flex-start;\n",
              "  width: 50%;\n",
              "}\n",
              "\n",
              "#sk-container-id-4 div.sk-parallel-item:only-child::after {\n",
              "  width: 0;\n",
              "}\n",
              "\n",
              "/* Serial-specific style estimator block */\n",
              "\n",
              "#sk-container-id-4 div.sk-serial {\n",
              "  display: flex;\n",
              "  flex-direction: column;\n",
              "  align-items: center;\n",
              "  background-color: var(--sklearn-color-background);\n",
              "  padding-right: 1em;\n",
              "  padding-left: 1em;\n",
              "}\n",
              "\n",
              "\n",
              "/* Toggleable style: style used for estimator/Pipeline/ColumnTransformer box that is\n",
              "clickable and can be expanded/collapsed.\n",
              "- Pipeline and ColumnTransformer use this feature and define the default style\n",
              "- Estimators will overwrite some part of the style using the `sk-estimator` class\n",
              "*/\n",
              "\n",
              "/* Pipeline and ColumnTransformer style (default) */\n",
              "\n",
              "#sk-container-id-4 div.sk-toggleable {\n",
              "  /* Default theme specific background. It is overwritten whether we have a\n",
              "  specific estimator or a Pipeline/ColumnTransformer */\n",
              "  background-color: var(--sklearn-color-background);\n",
              "}\n",
              "\n",
              "/* Toggleable label */\n",
              "#sk-container-id-4 label.sk-toggleable__label {\n",
              "  cursor: pointer;\n",
              "  display: block;\n",
              "  width: 100%;\n",
              "  margin-bottom: 0;\n",
              "  padding: 0.5em;\n",
              "  box-sizing: border-box;\n",
              "  text-align: center;\n",
              "}\n",
              "\n",
              "#sk-container-id-4 label.sk-toggleable__label-arrow:before {\n",
              "  /* Arrow on the left of the label */\n",
              "  content: \"▸\";\n",
              "  float: left;\n",
              "  margin-right: 0.25em;\n",
              "  color: var(--sklearn-color-icon);\n",
              "}\n",
              "\n",
              "#sk-container-id-4 label.sk-toggleable__label-arrow:hover:before {\n",
              "  color: var(--sklearn-color-text);\n",
              "}\n",
              "\n",
              "/* Toggleable content - dropdown */\n",
              "\n",
              "#sk-container-id-4 div.sk-toggleable__content {\n",
              "  max-height: 0;\n",
              "  max-width: 0;\n",
              "  overflow: hidden;\n",
              "  text-align: left;\n",
              "  /* unfitted */\n",
              "  background-color: var(--sklearn-color-unfitted-level-0);\n",
              "}\n",
              "\n",
              "#sk-container-id-4 div.sk-toggleable__content.fitted {\n",
              "  /* fitted */\n",
              "  background-color: var(--sklearn-color-fitted-level-0);\n",
              "}\n",
              "\n",
              "#sk-container-id-4 div.sk-toggleable__content pre {\n",
              "  margin: 0.2em;\n",
              "  border-radius: 0.25em;\n",
              "  color: var(--sklearn-color-text);\n",
              "  /* unfitted */\n",
              "  background-color: var(--sklearn-color-unfitted-level-0);\n",
              "}\n",
              "\n",
              "#sk-container-id-4 div.sk-toggleable__content.fitted pre {\n",
              "  /* unfitted */\n",
              "  background-color: var(--sklearn-color-fitted-level-0);\n",
              "}\n",
              "\n",
              "#sk-container-id-4 input.sk-toggleable__control:checked~div.sk-toggleable__content {\n",
              "  /* Expand drop-down */\n",
              "  max-height: 200px;\n",
              "  max-width: 100%;\n",
              "  overflow: auto;\n",
              "}\n",
              "\n",
              "#sk-container-id-4 input.sk-toggleable__control:checked~label.sk-toggleable__label-arrow:before {\n",
              "  content: \"▾\";\n",
              "}\n",
              "\n",
              "/* Pipeline/ColumnTransformer-specific style */\n",
              "\n",
              "#sk-container-id-4 div.sk-label input.sk-toggleable__control:checked~label.sk-toggleable__label {\n",
              "  color: var(--sklearn-color-text);\n",
              "  background-color: var(--sklearn-color-unfitted-level-2);\n",
              "}\n",
              "\n",
              "#sk-container-id-4 div.sk-label.fitted input.sk-toggleable__control:checked~label.sk-toggleable__label {\n",
              "  background-color: var(--sklearn-color-fitted-level-2);\n",
              "}\n",
              "\n",
              "/* Estimator-specific style */\n",
              "\n",
              "/* Colorize estimator box */\n",
              "#sk-container-id-4 div.sk-estimator input.sk-toggleable__control:checked~label.sk-toggleable__label {\n",
              "  /* unfitted */\n",
              "  background-color: var(--sklearn-color-unfitted-level-2);\n",
              "}\n",
              "\n",
              "#sk-container-id-4 div.sk-estimator.fitted input.sk-toggleable__control:checked~label.sk-toggleable__label {\n",
              "  /* fitted */\n",
              "  background-color: var(--sklearn-color-fitted-level-2);\n",
              "}\n",
              "\n",
              "#sk-container-id-4 div.sk-label label.sk-toggleable__label,\n",
              "#sk-container-id-4 div.sk-label label {\n",
              "  /* The background is the default theme color */\n",
              "  color: var(--sklearn-color-text-on-default-background);\n",
              "}\n",
              "\n",
              "/* On hover, darken the color of the background */\n",
              "#sk-container-id-4 div.sk-label:hover label.sk-toggleable__label {\n",
              "  color: var(--sklearn-color-text);\n",
              "  background-color: var(--sklearn-color-unfitted-level-2);\n",
              "}\n",
              "\n",
              "/* Label box, darken color on hover, fitted */\n",
              "#sk-container-id-4 div.sk-label.fitted:hover label.sk-toggleable__label.fitted {\n",
              "  color: var(--sklearn-color-text);\n",
              "  background-color: var(--sklearn-color-fitted-level-2);\n",
              "}\n",
              "\n",
              "/* Estimator label */\n",
              "\n",
              "#sk-container-id-4 div.sk-label label {\n",
              "  font-family: monospace;\n",
              "  font-weight: bold;\n",
              "  display: inline-block;\n",
              "  line-height: 1.2em;\n",
              "}\n",
              "\n",
              "#sk-container-id-4 div.sk-label-container {\n",
              "  text-align: center;\n",
              "}\n",
              "\n",
              "/* Estimator-specific */\n",
              "#sk-container-id-4 div.sk-estimator {\n",
              "  font-family: monospace;\n",
              "  border: 1px dotted var(--sklearn-color-border-box);\n",
              "  border-radius: 0.25em;\n",
              "  box-sizing: border-box;\n",
              "  margin-bottom: 0.5em;\n",
              "  /* unfitted */\n",
              "  background-color: var(--sklearn-color-unfitted-level-0);\n",
              "}\n",
              "\n",
              "#sk-container-id-4 div.sk-estimator.fitted {\n",
              "  /* fitted */\n",
              "  background-color: var(--sklearn-color-fitted-level-0);\n",
              "}\n",
              "\n",
              "/* on hover */\n",
              "#sk-container-id-4 div.sk-estimator:hover {\n",
              "  /* unfitted */\n",
              "  background-color: var(--sklearn-color-unfitted-level-2);\n",
              "}\n",
              "\n",
              "#sk-container-id-4 div.sk-estimator.fitted:hover {\n",
              "  /* fitted */\n",
              "  background-color: var(--sklearn-color-fitted-level-2);\n",
              "}\n",
              "\n",
              "/* Specification for estimator info (e.g. \"i\" and \"?\") */\n",
              "\n",
              "/* Common style for \"i\" and \"?\" */\n",
              "\n",
              ".sk-estimator-doc-link,\n",
              "a:link.sk-estimator-doc-link,\n",
              "a:visited.sk-estimator-doc-link {\n",
              "  float: right;\n",
              "  font-size: smaller;\n",
              "  line-height: 1em;\n",
              "  font-family: monospace;\n",
              "  background-color: var(--sklearn-color-background);\n",
              "  border-radius: 1em;\n",
              "  height: 1em;\n",
              "  width: 1em;\n",
              "  text-decoration: none !important;\n",
              "  margin-left: 1ex;\n",
              "  /* unfitted */\n",
              "  border: var(--sklearn-color-unfitted-level-1) 1pt solid;\n",
              "  color: var(--sklearn-color-unfitted-level-1);\n",
              "}\n",
              "\n",
              ".sk-estimator-doc-link.fitted,\n",
              "a:link.sk-estimator-doc-link.fitted,\n",
              "a:visited.sk-estimator-doc-link.fitted {\n",
              "  /* fitted */\n",
              "  border: var(--sklearn-color-fitted-level-1) 1pt solid;\n",
              "  color: var(--sklearn-color-fitted-level-1);\n",
              "}\n",
              "\n",
              "/* On hover */\n",
              "div.sk-estimator:hover .sk-estimator-doc-link:hover,\n",
              ".sk-estimator-doc-link:hover,\n",
              "div.sk-label-container:hover .sk-estimator-doc-link:hover,\n",
              ".sk-estimator-doc-link:hover {\n",
              "  /* unfitted */\n",
              "  background-color: var(--sklearn-color-unfitted-level-3);\n",
              "  color: var(--sklearn-color-background);\n",
              "  text-decoration: none;\n",
              "}\n",
              "\n",
              "div.sk-estimator.fitted:hover .sk-estimator-doc-link.fitted:hover,\n",
              ".sk-estimator-doc-link.fitted:hover,\n",
              "div.sk-label-container:hover .sk-estimator-doc-link.fitted:hover,\n",
              ".sk-estimator-doc-link.fitted:hover {\n",
              "  /* fitted */\n",
              "  background-color: var(--sklearn-color-fitted-level-3);\n",
              "  color: var(--sklearn-color-background);\n",
              "  text-decoration: none;\n",
              "}\n",
              "\n",
              "/* Span, style for the box shown on hovering the info icon */\n",
              ".sk-estimator-doc-link span {\n",
              "  display: none;\n",
              "  z-index: 9999;\n",
              "  position: relative;\n",
              "  font-weight: normal;\n",
              "  right: .2ex;\n",
              "  padding: .5ex;\n",
              "  margin: .5ex;\n",
              "  width: min-content;\n",
              "  min-width: 20ex;\n",
              "  max-width: 50ex;\n",
              "  color: var(--sklearn-color-text);\n",
              "  box-shadow: 2pt 2pt 4pt #999;\n",
              "  /* unfitted */\n",
              "  background: var(--sklearn-color-unfitted-level-0);\n",
              "  border: .5pt solid var(--sklearn-color-unfitted-level-3);\n",
              "}\n",
              "\n",
              ".sk-estimator-doc-link.fitted span {\n",
              "  /* fitted */\n",
              "  background: var(--sklearn-color-fitted-level-0);\n",
              "  border: var(--sklearn-color-fitted-level-3);\n",
              "}\n",
              "\n",
              ".sk-estimator-doc-link:hover span {\n",
              "  display: block;\n",
              "}\n",
              "\n",
              "/* \"?\"-specific style due to the `<a>` HTML tag */\n",
              "\n",
              "#sk-container-id-4 a.estimator_doc_link {\n",
              "  float: right;\n",
              "  font-size: 1rem;\n",
              "  line-height: 1em;\n",
              "  font-family: monospace;\n",
              "  background-color: var(--sklearn-color-background);\n",
              "  border-radius: 1rem;\n",
              "  height: 1rem;\n",
              "  width: 1rem;\n",
              "  text-decoration: none;\n",
              "  /* unfitted */\n",
              "  color: var(--sklearn-color-unfitted-level-1);\n",
              "  border: var(--sklearn-color-unfitted-level-1) 1pt solid;\n",
              "}\n",
              "\n",
              "#sk-container-id-4 a.estimator_doc_link.fitted {\n",
              "  /* fitted */\n",
              "  border: var(--sklearn-color-fitted-level-1) 1pt solid;\n",
              "  color: var(--sklearn-color-fitted-level-1);\n",
              "}\n",
              "\n",
              "/* On hover */\n",
              "#sk-container-id-4 a.estimator_doc_link:hover {\n",
              "  /* unfitted */\n",
              "  background-color: var(--sklearn-color-unfitted-level-3);\n",
              "  color: var(--sklearn-color-background);\n",
              "  text-decoration: none;\n",
              "}\n",
              "\n",
              "#sk-container-id-4 a.estimator_doc_link.fitted:hover {\n",
              "  /* fitted */\n",
              "  background-color: var(--sklearn-color-fitted-level-3);\n",
              "}\n",
              "</style><div id=\"sk-container-id-4\" class=\"sk-top-container\"><div class=\"sk-text-repr-fallback\"><pre>LinearRegression()</pre><b>In a Jupyter environment, please rerun this cell to show the HTML representation or trust the notebook. <br />On GitHub, the HTML representation is unable to render, please try loading this page with nbviewer.org.</b></div><div class=\"sk-container\" hidden><div class=\"sk-item\"><div class=\"sk-estimator fitted sk-toggleable\"><input class=\"sk-toggleable__control sk-hidden--visually\" id=\"sk-estimator-id-4\" type=\"checkbox\" checked><label for=\"sk-estimator-id-4\" class=\"sk-toggleable__label fitted sk-toggleable__label-arrow fitted\">&nbsp;&nbsp;LinearRegression<a class=\"sk-estimator-doc-link fitted\" rel=\"noreferrer\" target=\"_blank\" href=\"https://scikit-learn.org/1.5/modules/generated/sklearn.linear_model.LinearRegression.html\">?<span>Documentation for LinearRegression</span></a><span class=\"sk-estimator-doc-link fitted\">i<span>Fitted</span></span></label><div class=\"sk-toggleable__content fitted\"><pre>LinearRegression()</pre></div> </div></div></div></div>"
            ]
          },
          "metadata": {},
          "execution_count": 137
        }
      ],
      "source": [
        "# Initialize the Linear Regression model.\n",
        "linear_model = LinearRegression()\n",
        "\n",
        "# Fit the model on the training data.\n",
        "linear_model.fit(X_train_np, y_train)"
      ]
    },
    {
      "cell_type": "markdown",
      "metadata": {
        "id": "7vxsmkSamxdY"
      },
      "source": [
        "\n",
        "\n",
        "---\n",
        "\n"
      ]
    },
    {
      "cell_type": "markdown",
      "metadata": {
        "id": "K3MaLE-WkEWR"
      },
      "source": [
        "###2.1.2 Build Linear Regression."
      ]
    },
    {
      "cell_type": "markdown",
      "metadata": {
        "id": "9TEZF48quycH"
      },
      "source": [
        "#### 2.1.2.1 The closed-form solution."
      ]
    },
    {
      "cell_type": "markdown",
      "metadata": {
        "id": "3PFd1kixoMfX"
      },
      "source": [
        "The closed-form solution calculates the weights (coefficients) of a linear regression model by solving a mathematical equation. It avoids iterative methods and directly computes the weights that minimize the error between predictions and actual values."
      ]
    },
    {
      "cell_type": "code",
      "execution_count": 138,
      "metadata": {
        "id": "_JkJ6wN5KyUA"
      },
      "outputs": [],
      "source": [
        "def closed_form_solution(X, y, lambda_reg=1e-5):\n",
        "    # 1. Add bias term (intercept) to X.\n",
        "    X_with_bias = np.c_[np.ones((X.shape[0], 1)), X]\n",
        "\n",
        "    # 2. Compute X^T * X.\n",
        "    X_T_X = X_with_bias.T @ X_with_bias\n",
        "\n",
        "    # 3. Create an identity matrix for regularization.\n",
        "    identity_matrix = np.eye(X_T_X.shape[0])\n",
        "    identity_matrix[0, 0] = 0\n",
        "    X_T_X_reg = X_T_X + lambda_reg * identity_matrix\n",
        "    X_T_X_reg_inv = np.linalg.inv(X_T_X_reg)\n",
        "    X_T_y = X_with_bias.T @ y\n",
        "    w = X_T_X_reg_inv @ X_T_y\n",
        "    return w"
      ]
    },
    {
      "cell_type": "markdown",
      "metadata": {
        "id": "iAUqLbhuxzIa"
      },
      "source": [
        "#### 2.1.2.2 The gradient descent method."
      ]
    },
    {
      "cell_type": "markdown",
      "metadata": {
        "id": "CrvsDoKTOsZi"
      },
      "source": [
        "This method optimizes the weights of a linear regression model iteratively. A bias term is added to the dataset to account for the intercept in the equation. The algorithm starts with all weights initialized to zero and updates them by calculating the gradient of the error at each step. The process continues for a specified number of iterations, ensuring gradual improvement of the model's accuracy.\n",
        "\n"
      ]
    },
    {
      "cell_type": "code",
      "execution_count": 139,
      "metadata": {
        "id": "fZdDpP-dx_Hc"
      },
      "outputs": [],
      "source": [
        "def gradient_descent(X, y, alpha=0.001, iterations=1000):\n",
        "    # 1. Add a column of ones to X to account for the bias term\n",
        "    X = np.c_[np.ones((X.shape[0], 1)), X]\n",
        "    m, n = X.shape\n",
        "    w = np.zeros(n)\n",
        "\n",
        "    # 2. Perform gradient descent for a specified number of iterations.\n",
        "    for _ in range(iterations):\n",
        "        gradient = (1 / m) * (X.T @ (X @ w - y))\n",
        "        w -= alpha * gradient\n",
        "    return w"
      ]
    },
    {
      "cell_type": "code",
      "execution_count": 95,
      "metadata": {
        "id": "yU8vkjPdTeQk"
      },
      "outputs": [],
      "source": [
        "# 3. Add bias to the validation set for consistency.\n",
        "X_val_with_bias = np.c_[np.ones((X_val_np.shape[0], 1)), X_val_np]\n",
        "\n",
        "# 4. Compute wights using both methods.\n",
        "w_closed_form = closed_form_solution(X_train_np, y_train_np)\n",
        "w_gradient_descent = gradient_descent(X_train_np, y_train_np, alpha=0.001, iterations=1000)"
      ]
    },
    {
      "cell_type": "markdown",
      "metadata": {
        "id": "FESfAmMHm1uT"
      },
      "source": [
        "\n",
        "\n",
        "---\n",
        "\n"
      ]
    },
    {
      "cell_type": "markdown",
      "metadata": {
        "id": "b9wYe5pFjRa3"
      },
      "source": [
        "###2.1.3 LASSO (L1 Regularization)"
      ]
    },
    {
      "cell_type": "markdown",
      "metadata": {
        "id": "kSMC3ddNRQWl"
      },
      "source": [
        "LASSO regression adds an L1 regularization term to the cost function, encouraging sparsity by reducing less important feature coefficients to zero."
      ]
    },
    {
      "cell_type": "code",
      "execution_count": 141,
      "metadata": {
        "id": "gWJyTumbjw_a"
      },
      "outputs": [],
      "source": [
        "# 1. These represent different strengths of L1 regularization.\n",
        "lambda_values = {'alpha': [0.01, 0.1, 1, 10, 100, 1000]}\n",
        "\n",
        "# 2. Instantiate a LASSO regression model.\n",
        "lasso = Lasso(max_iter=200000)\n",
        "\n",
        "# 3. Perform grid search with cross-validation to find the best regularization parameter.\n",
        "grid_search_lasso = GridSearchCV(estimator=lasso, param_grid=lambda_values, scoring='neg_mean_squared_error', cv=5)\n",
        "grid_search_lasso.fit(X_train, y_train)\n",
        "\n",
        "best_lasso_model = grid_search_lasso.best_estimator_\n",
        "best_lambda = grid_search_lasso.best_params_['alpha']"
      ]
    },
    {
      "cell_type": "markdown",
      "metadata": {
        "id": "shmK6Rt9RRlO"
      },
      "source": [
        "\n",
        "\n",
        "---\n",
        "\n"
      ]
    },
    {
      "cell_type": "markdown",
      "metadata": {
        "id": "5JV_dyGCjfwq"
      },
      "source": [
        "###2.1.4 Ridge Regression (L2 Regularization)."
      ]
    },
    {
      "cell_type": "markdown",
      "metadata": {
        "id": "kkhh2DflSLtX"
      },
      "source": [
        "Ridge Regression adds L2 regularization to the cost function, penalizing the squared magnitude of feature coefficients to reduce overfitting. This regularization method ensures that all coefficients are small but not necessarily zero, preserving all features while controlling their influence.\n",
        "\n"
      ]
    },
    {
      "cell_type": "code",
      "execution_count": 97,
      "metadata": {
        "id": "Y1wwLuzrjxfh"
      },
      "outputs": [],
      "source": [
        "lambda_values = {'alpha': [0.01, 0.1, 1, 10, 100, 1000]}\n",
        "\n",
        "ridge = Ridge(max_iter=10000)\n",
        "\n",
        "grid_search_ridge = GridSearchCV(estimator=ridge, param_grid=lambda_values, scoring='neg_mean_squared_error', cv=5)\n",
        "grid_search_ridge.fit(X_train, y_train)\n",
        "\n",
        "best_ridge_model = grid_search_ridge.best_estimator_\n",
        "best_lambda = grid_search_ridge.best_params_['alpha']"
      ]
    },
    {
      "cell_type": "markdown",
      "metadata": {
        "id": "DTxC41-skZ5U"
      },
      "source": [
        "\n",
        "\n",
        "---\n",
        "\n"
      ]
    },
    {
      "cell_type": "markdown",
      "metadata": {
        "id": "4EHLgmFwisPR"
      },
      "source": [
        "## 2.2 Non-linear Models."
      ]
    },
    {
      "cell_type": "markdown",
      "metadata": {
        "id": "GInJuyc8V1we"
      },
      "source": [
        "Polynomial regression extends linear regression by adding polynomial features to the model, allowing it to capture non-linear relationships in the data. Here, degrees from 2 to 6 are explored to find the best-fitting model."
      ]
    },
    {
      "cell_type": "code",
      "execution_count": 142,
      "metadata": {
        "colab": {
          "base_uri": "https://localhost:8080/"
        },
        "id": "Ocb3Js_sjyn-",
        "outputId": "c09953fa-1659-4e0d-9fa2-de421da5e781"
      },
      "outputs": [
        {
          "output_type": "stream",
          "name": "stdout",
          "text": [
            "Polynomial Degree: 2\n",
            "Mean Squared Error: 0.2577706755869455\n",
            "R-squared: 0.7420178216118459\n",
            "Mean Absolute Error: 0.385023716105236\n",
            "\n",
            "Polynomial Degree: 3\n",
            "Mean Squared Error: 0.24926322777255877\n",
            "R-squared: 0.7505322498519145\n",
            "Mean Absolute Error: 0.3763156438438528\n",
            "\n",
            "Polynomial Degree: 4\n",
            "Mean Squared Error: 1.9207762561811696e+16\n",
            "R-squared: -1.9223522677183716e+16\n",
            "Mean Absolute Error: 4935546.98486608\n",
            "\n",
            "Polynomial Degree: 5\n",
            "Mean Squared Error: 1230726.7558803314\n",
            "R-squared: -1231735.5765505775\n",
            "Mean Absolute Error: 97.06079921989217\n",
            "\n",
            "Polynomial Degree: 6\n",
            "Mean Squared Error: 152884954.74404752\n",
            "R-squared: -153010397.01302058\n",
            "Mean Absolute Error: 1523.1486131457368\n",
            "\n"
          ]
        }
      ],
      "source": [
        "# 1. Initialize the LinearRegression model.\n",
        "linear_regressor = LinearRegression()\n",
        "\n",
        "# 2. Define the range of polynomial degrees to test.\n",
        "degrees = range(2, 7)\n",
        "\n",
        "# 3. Iterate through each polynomial degree.\n",
        "for degree in degrees:\n",
        "    poly = PolynomialFeatures(degree=degree)\n",
        "    X_poly_train = poly.fit_transform(X_train)\n",
        "    X_poly_val = poly.transform(X_val)\n",
        "\n",
        "    linear_regressor.fit(X_poly_train, y_train)\n",
        "\n",
        "    y_val_pred = linear_regressor.predict(X_poly_val)\n",
        "\n",
        "    # Output the performance metrics for the current degree.\n",
        "    print(f\"Polynomial Degree: {degree}\")\n",
        "    print(f\"Mean Squared Error: {mean_squared_error(y_val, y_val_pred)}\")\n",
        "    print(f\"R-squared: {r2_score(y_val, y_val_pred)}\")\n",
        "    print(f\"Mean Absolute Error: {mean_absolute_error(y_val, y_val_pred)}\")\n",
        "    print()"
      ]
    },
    {
      "cell_type": "markdown",
      "metadata": {
        "id": "HzkycBclYQDK"
      },
      "source": [
        "\n",
        "\n",
        "---\n",
        "\n"
      ]
    },
    {
      "cell_type": "markdown",
      "metadata": {
        "id": "cftlfaXobDBt"
      },
      "source": [
        "# 3. **Model Selection Using Validation Set**."
      ]
    },
    {
      "cell_type": "markdown",
      "metadata": {
        "id": "nHAxA-auZVB1"
      },
      "source": [
        "Model evaluation involves assessing the performance of different regression models on the validation set to determine the best model for predicting the target variable."
      ]
    },
    {
      "cell_type": "code",
      "execution_count": 147,
      "metadata": {
        "colab": {
          "base_uri": "https://localhost:8080/"
        },
        "id": "AICYFkYkTR1q",
        "outputId": "fa16d0a1-ea1d-4bd6-ea8e-1a04dd8f7143"
      },
      "outputs": [
        {
          "output_type": "stream",
          "name": "stdout",
          "text": [
            "Mean Squared Error: 0.2997988134149693\n",
            "Mean Absolute Error: 0.4186406825794693\n",
            "R-squared: 0.6999551993768586\n"
          ]
        }
      ],
      "source": [
        "# 1. Predict the validation set using the built-in linear regression model.\n",
        "y_val_pred = linear_model.predict(X_val_np)\n",
        "\n",
        "# 2. Calculate evaluation metrics.\n",
        "mae = mean_absolute_error(y_val, y_val_pred)\n",
        "mse = mean_squared_error(y_val, y_val_pred)\n",
        "r2 = r2_score(y_val, y_val_pred)\n",
        "\n",
        "print(f\"Mean Squared Error: {mse}\")\n",
        "print(f\"Mean Absolute Error: {mae}\")\n",
        "print(f\"R-squared: {r2}\")"
      ]
    },
    {
      "cell_type": "code",
      "execution_count": 148,
      "metadata": {
        "colab": {
          "base_uri": "https://localhost:8080/"
        },
        "id": "mV5r08yKTQlS",
        "outputId": "c27027f4-24d6-4636-e0ad-cffdd07c733a"
      },
      "outputs": [
        {
          "output_type": "stream",
          "name": "stdout",
          "text": [
            "Closed-form solution\n",
            "MSE: 0.299798813522232\n",
            "R2 Score: 0.6999551992695079\n",
            "MAE: 0.4186406825106156\n",
            "\n",
            "\n",
            "Gradient Descent\n",
            "MSE: 0.3608640301625723\n",
            "R2 Score: 0.6388398781541476\n",
            "MAE: 0.47843897250474915\n"
          ]
        }
      ],
      "source": [
        "# 1. Predict the validation set using weights from the closed-form solution and gradient descent.\n",
        "y_pred_closed_form = X_val_with_bias @ w_closed_form\n",
        "y_pred_gradient_descent = X_val_with_bias @ w_gradient_descent\n",
        "\n",
        "# 2. Evaluate metrics for BOTH the closed-form solution and the gradient descent solution.\n",
        "mse_closed_form = mean_squared_error(y_val_np, y_pred_closed_form)\n",
        "mse_gradient_descent = mean_squared_error(y_val_np, y_pred_gradient_descent)\n",
        "\n",
        "r2_score_closed_form = r2_score(y_val_np, y_pred_closed_form)\n",
        "r2_score_gradient_descent = r2_score(y_val_np, y_pred_gradient_descent)\n",
        "\n",
        "mae1 = mean_absolute_error(y_val_np, y_pred_closed_form)\n",
        "mea2 = mean_absolute_error(y_val_np, y_pred_gradient_descent)\n",
        "\n",
        "print(\"Closed-form solution\")\n",
        "print(\"MSE:\", mse_closed_form)\n",
        "print(\"R2 Score:\", r2_score_closed_form)\n",
        "print(\"MAE:\", mae1)\n",
        "print(\"\\n\")\n",
        "print(\"Gradient Descent\")\n",
        "print(\"MSE:\", mse_gradient_descent)\n",
        "print(\"R2 Score:\", r2_score_gradient_descent)\n",
        "print(\"MAE:\", mea2)"
      ]
    },
    {
      "cell_type": "code",
      "execution_count": 149,
      "metadata": {
        "colab": {
          "base_uri": "https://localhost:8080/"
        },
        "id": "NxgGK0MDTsFW",
        "outputId": "6fb08f80-a50b-4290-ed8e-4b1deec0e271"
      },
      "outputs": [
        {
          "output_type": "stream",
          "name": "stdout",
          "text": [
            "Best LASSO λ: 0.01\n",
            "LASSO Regression:\n",
            "MSE: 0.30391539914718463\n",
            "MAE: 0.42016474883845273\n",
            "R2 Score: 0.6958352359547186\n"
          ]
        }
      ],
      "source": [
        "# 1. Predict the validation set using the best LASSO model from grid search.\n",
        "y_val_pred = best_lasso_model.predict(X_val)\n",
        "\n",
        "# 2. Calculate LASSO evaluation metrics.\n",
        "lasso_val_error = mean_squared_error(y_val, y_val_pred)\n",
        "mae_ = mean_absolute_error(y_val, y_val_pred)\n",
        "r2_ = r2_score(y_val, y_val_pred)\n",
        "\n",
        "\n",
        "print(f\"Best LASSO λ: {best_lambda}\")\n",
        "print(f\"LASSO Regression:\")\n",
        "print(f\"MSE: {lasso_val_error}\")\n",
        "print(f\"MAE: {mae_}\")\n",
        "print(f\"R2 Score: {r2_}\")"
      ]
    },
    {
      "cell_type": "code",
      "execution_count": 150,
      "metadata": {
        "colab": {
          "base_uri": "https://localhost:8080/"
        },
        "id": "1zpGaJf9UXCg",
        "outputId": "4569a7dc-79b5-41c3-96b4-c7ef7da869a2"
      },
      "outputs": [
        {
          "output_type": "stream",
          "name": "stdout",
          "text": [
            "Best Ridge λ: 0.01\n",
            "Ridge Regression:\n",
            "MSE: 0.29981253163420724\n",
            "MAE: 0.4186272676197416\n",
            "R2 Score: 0.6999414699017172\n"
          ]
        }
      ],
      "source": [
        "y_val_pred = best_ridge_model.predict(X_val)\n",
        "\n",
        "ridge_val_error = mean_squared_error(y_val, y_val_pred)\n",
        "mae_ = mean_absolute_error(y_val, y_val_pred)\n",
        "r2_ = r2_score(y_val, y_val_pred)\n",
        "\n",
        "print(f\"Best Ridge λ: {best_lambda}\")\n",
        "print(f\"Ridge Regression:\")\n",
        "print(f\"MSE: {ridge_val_error}\")\n",
        "print(f\"MAE: {mae_}\")\n",
        "print(f\"R2 Score: {r2_}\")"
      ]
    },
    {
      "cell_type": "markdown",
      "metadata": {
        "id": "LaOmiQMttRIG"
      },
      "source": [
        "\n",
        "\n",
        "---\n",
        "\n"
      ]
    },
    {
      "cell_type": "markdown",
      "metadata": {
        "id": "FNXZV-0mbSdn"
      },
      "source": [
        "# 4. **Feature Selection with Forward Selection**."
      ]
    },
    {
      "cell_type": "markdown",
      "metadata": {
        "id": "ZOIKY9YcxHoF"
      },
      "source": [
        "Forward Feature Selection is a stepwise feature selection technique aimed at iteratively building a model by selecting features that minimize error and improve performance."
      ]
    },
    {
      "cell_type": "code",
      "execution_count": 151,
      "metadata": {
        "colab": {
          "base_uri": "https://localhost:8080/",
          "height": 807
        },
        "id": "TAsvhisRhgdj",
        "outputId": "13a62563-b126-4f4f-d7a5-dcf34603e699"
      },
      "outputs": [
        {
          "output_type": "stream",
          "name": "stdout",
          "text": [
            "Selected Features: ['horse_power', 'country_egypt', 'top_speed', 'country_kuwait', 'cylinder', 'seats', 'country_ksa', 'brand', 'engine_capacity', 'country_qatar', 'country_uae', 'country_bahrain', 'country_oman']\n",
            "MSE History: [0.3498165713282278, 0.3231183036399981, 0.3079850564236844, 0.3051268669273905, 0.3036154324400962, 0.30142431661489655, 0.3000256689017248, 0.29965798899404233, 0.2995396507897997, 0.29950398728612254, 0.29951398432487764, 0.2997988134149692, 0.2997988134149693]\n",
            "MAE History: [0.4629347184387034, 0.4455589618951471, 0.42570910798674094, 0.4238151134848002, 0.4223950852249581, 0.4197605994021281, 0.41842982754682145, 0.41841657596134013, 0.4181500867167219, 0.4182105171469863, 0.418201635987374, 0.4186406825794691, 0.4186406825794693]\n",
            "R² History: [0.6498964015125477, 0.6766165753326158, 0.6917622394934494, 0.6946227741559787, 0.6961354487867732, 0.6983283624391841, 0.6997281577534495, 0.7000961393452947, 0.7002145746469346, 0.700250267412788, 0.7002402621713865, 0.6999551993768587, 0.6999551993768586]\n"
          ]
        },
        {
          "output_type": "display_data",
          "data": {
            "text/plain": [
              "<Figure size 1200x800 with 1 Axes>"
            ],
            "image/png": "[encoded data removed]"
          },
          "metadata": {}
        }
      ],
      "source": [
        "def forward_feature_selection(X_train, y_train, X_val, y_val, max_features=None):\n",
        "    selected_features = []\n",
        "    remaining_features = list(X_train.columns)\n",
        "    mse_history, mae_history, r2_history = [], [], []\n",
        "\n",
        "    while remaining_features and (max_features is None or len(selected_features) < max_features):\n",
        "        best_feature = None\n",
        "        best_mse = float('inf')\n",
        "        best_mae, best_r2 = None, None\n",
        "\n",
        "        for feature in remaining_features:\n",
        "\n",
        "            current_features = selected_features + [feature]\n",
        "            model = LinearRegression()\n",
        "            model.fit(X_train[current_features], y_train)\n",
        "            y_val_pred = model.predict(X_val[current_features])\n",
        "\n",
        "\n",
        "            mse = mean_squared_error(y_val, y_val_pred)\n",
        "            mae = mean_absolute_error(y_val, y_val_pred)\n",
        "            r2 = r2_score(y_val, y_val_pred)\n",
        "\n",
        "\n",
        "            if mse < best_mse:\n",
        "                best_feature = feature\n",
        "                best_mse = mse\n",
        "                best_mae = mae\n",
        "                best_r2 = r2\n",
        "\n",
        "        if best_feature is not None:\n",
        "\n",
        "            selected_features.append(best_feature)\n",
        "            remaining_features.remove(best_feature)\n",
        "            mse_history.append(best_mse)\n",
        "            mae_history.append(best_mae)\n",
        "            r2_history.append(best_r2)\n",
        "        else:\n",
        "            break\n",
        "\n",
        "    return selected_features, mse_history, mae_history, r2_history\n",
        "\n",
        "# 1. Perform forward feature selection.\n",
        "selected_features, mse_history, mae_history, r2_history = forward_feature_selection(X_train, y_train, X_val, y_val)\n",
        "\n",
        "# 2. Output the selected features and metric histories.\n",
        "print(\"Selected Features:\", selected_features)\n",
        "print(\"MSE History:\", mse_history)\n",
        "print(\"MAE History:\", mae_history)\n",
        "print(\"R² History:\", r2_history)\n",
        "\n",
        "# 3. Visualization of metrics over the number of selected features.\n",
        "plt.figure(figsize=(12, 8))\n",
        "\n",
        "# MSE\n",
        "plt.plot(range(1, len(mse_history) + 1), mse_history, label=\"MSE\", marker='o')\n",
        "\n",
        "# MAE\n",
        "plt.plot(range(1, len(mae_history) + 1), mae_history, label=\"MAE\", marker='s')\n",
        "\n",
        "# R²\n",
        "plt.plot(range(1, len(r2_history) + 1), r2_history, label=\"R²\", marker='^')\n",
        "\n",
        "plt.xlabel(\"Number of Selected Features\")\n",
        "plt.ylabel(\"Metric Value\")\n",
        "plt.title(\"Forward Feature Selection: Validation Metrics by Number of Features\")\n",
        "plt.legend()\n",
        "plt.grid()\n",
        "plt.show()\n"
      ]
    },
    {
      "cell_type": "markdown",
      "metadata": {
        "id": "9rFkyhfjxQrn"
      },
      "source": [
        "The results include:\n",
        "\n",
        "\n",
        "1.   A list of selected features in the order of their inclusion.\n",
        "2.   The historical progression of MSE, MAE, and R² metrics as features are added."
      ]
    },
    {
      "cell_type": "markdown",
      "metadata": {
        "id": "uTFsDw7vxXlW"
      },
      "source": [
        "\n",
        "\n",
        "---\n",
        "\n"
      ]
    },
    {
      "cell_type": "markdown",
      "metadata": {
        "id": "x3NEMVcmbX6p"
      },
      "source": [
        "# 5. **Hyperparameter Tuning with Grid Search**."
      ]
    },
    {
      "cell_type": "markdown",
      "metadata": {
        "id": "GycR5qv80qSU"
      },
      "source": [
        "hyperparameter tuning using grid search for optimal regularization parameters (alpha) in Lasso and Ridge regression models. Additionally, hyperparameter tuning is extended to polynomial regression with Lasso regularization."
      ]
    },
    {
      "cell_type": "code",
      "execution_count": 152,
      "metadata": {
        "colab": {
          "base_uri": "https://localhost:8080/"
        },
        "id": "LNsbysqPiyKO",
        "outputId": "4de04fd9-ff99-4377-8e4a-d11e3fc57d0b"
      },
      "outputs": [
        {
          "output_type": "stream",
          "name": "stdout",
          "text": [
            "Fitting 5 folds for each of 5 candidates, totalling 25 fits\n",
            "Best Parameters: {'alpha': 0.01}\n",
            "Validation MSE: 0.30391539914718463\n",
            "Validation MAE: 0.42016474883845273\n",
            "Validation R²: 0.6958352359547186\n",
            "\n",
            "\n",
            "Fitting 5 folds for each of 5 candidates, totalling 25 fits\n",
            "Best Parameters: {'alpha': 1}\n",
            "Validation MSE: 0.29981253163420724\n",
            "Validation MAE: 0.4186272676197416\n",
            "Validation R²: 0.6999414699017172\n",
            "\n",
            "\n"
          ]
        }
      ],
      "source": [
        "def grid_search_tuning(X_train, y_train, X_val, y_val, model_type='lasso', param_grid=None):\n",
        "\n",
        "    if model_type == 'lasso':\n",
        "        model = Lasso(max_iter=10000)\n",
        "    elif model_type == 'ridge':\n",
        "        model = Ridge(max_iter=10000)\n",
        "    else:\n",
        "        raise ValueError(\"Model type must be 'lasso' or 'ridge'\")\n",
        "\n",
        "    if param_grid is None:\n",
        "        param_grid = {'alpha': [0.01, 0.1, 1, 10, 100, 1000]}\n",
        "\n",
        "    grid_search = GridSearchCV( model, param_grid, scoring='neg_mean_squared_error', cv=5, n_jobs=-1, verbose=1)\n",
        "    grid_search.fit(X_train, y_train)\n",
        "\n",
        "    # Best model.\n",
        "    best_model = grid_search.best_estimator_\n",
        "    best_params = grid_search.best_params_\n",
        "\n",
        "    # Evaluate on validation set.\n",
        "    y_val_pred = best_model.predict(X_val)\n",
        "    val_mse = mean_squared_error(y_val, y_val_pred)\n",
        "    val_mae = mean_absolute_error(y_val, y_val_pred)\n",
        "    val_r2 = r2_score(y_val, y_val_pred)\n",
        "\n",
        "    print(\"Best Parameters:\", best_params)\n",
        "    print(\"Validation MSE:\", val_mse)\n",
        "    print(\"Validation MAE:\", val_mae)\n",
        "    print(\"Validation R²:\", val_r2)\n",
        "    print(\"\\n\")\n",
        "\n",
        "    return best_model, best_params, grid_search.cv_results_\n",
        "\n",
        "param_grid = {'alpha': [0.01, 0.1, 1, 10, 100]}\n",
        "best_lasso_model, best_lasso_params, lasso_results = grid_search_tuning(\n",
        "    X_train, y_train, X_val, y_val, model_type='lasso', param_grid=param_grid\n",
        ")\n",
        "\n",
        "param_grid = {'alpha': [0.01, 0.1, 1, 10, 100]}\n",
        "best_ridge_model, best_ridge_params, ridge_results = grid_search_tuning(\n",
        "    X_train, y_train, X_val, y_val, model_type='ridge', param_grid=param_grid\n",
        ")"
      ]
    },
    {
      "cell_type": "markdown",
      "metadata": {
        "id": "C1VkjsQX0xlf"
      },
      "source": [
        "These results include: The best alpha value for Lasso and Ridge."
      ]
    },
    {
      "cell_type": "code",
      "execution_count": 153,
      "metadata": {
        "colab": {
          "base_uri": "https://localhost:8080/",
          "height": 476
        },
        "id": "Z1SPkUObjyxk",
        "outputId": "ed490aab-d7ec-40a1-e434-8ea4a02962f6"
      },
      "outputs": [
        {
          "output_type": "display_data",
          "data": {
            "text/plain": [
              "<Figure size 640x480 with 1 Axes>"
            ],
            "image/png": "[encoded data removed]"
          },
          "metadata": {}
        }
      ],
      "source": [
        "# Visualizing the grid search results for Lasso.\n",
        "alphas = [0.01, 0.1, 1, 10, 100]\n",
        "mean_scores = -lasso_results['mean_test_score']\n",
        "\n",
        "plt.plot(alphas, mean_scores, marker='o', label=\"Lasso\")\n",
        "plt.xscale('log')\n",
        "plt.xlabel(\"Alpha (Regularization Parameter)\")\n",
        "plt.ylabel(\"Mean CV MSE\")\n",
        "plt.title(\"Hyperparameter Tuning with Grid Search (Lasso)\")\n",
        "plt.legend()\n",
        "plt.grid()\n",
        "plt.show()"
      ]
    },
    {
      "cell_type": "markdown",
      "metadata": {
        "id": "8l_uUCtt05fe"
      },
      "source": [
        "These results include: The optimal polynomial degree for polynomial regression with Lasso."
      ]
    },
    {
      "cell_type": "code",
      "execution_count": 154,
      "metadata": {
        "colab": {
          "base_uri": "https://localhost:8080/"
        },
        "id": "kkFOrV8zlonS",
        "outputId": "165c0ee4-e155-48bd-f7de-ac4b30bca448"
      },
      "outputs": [
        {
          "output_type": "stream",
          "name": "stdout",
          "text": [
            "Fitting 3 folds for each of 3 candidates, totalling 9 fits\n",
            "Fitting 3 folds for each of 3 candidates, totalling 9 fits\n",
            "Fitting 3 folds for each of 3 candidates, totalling 9 fits\n",
            "Best polynomial degree: 4\n",
            "Validation MSE: 0.30355071936752337\n"
          ]
        }
      ],
      "source": [
        "# Scale data.\n",
        "scaler = StandardScaler()\n",
        "X_train_scaled = scaler.fit_transform(X_train)\n",
        "X_val_scaled = scaler.transform(X_val)\n",
        "\n",
        "# Define a reduced parameter grid.\n",
        "param_grid = {'alpha': [0.1, 1, 10]}\n",
        "\n",
        "# Limit polynomial degrees to a smaller range.\n",
        "best_models = []\n",
        "for degree in range(2, 5):\n",
        "    pipeline = Pipeline([\n",
        "        ('poly', PolynomialFeatures(degree=degree)),\n",
        "        ('lasso', Lasso(max_iter=10000))\n",
        "    ])\n",
        "\n",
        "    grid_search = GridSearchCV(\n",
        "        pipeline,\n",
        "        param_grid={'lasso__alpha': param_grid['alpha']},\n",
        "        scoring='neg_mean_squared_error',\n",
        "        cv=3,\n",
        "        n_jobs=-1,\n",
        "        verbose=1\n",
        "    )\n",
        "    grid_search.fit(X_train_scaled, y_train)\n",
        "\n",
        "    best_model = grid_search.best_estimator_\n",
        "    best_score = -grid_search.best_score_\n",
        "    best_models.append((degree, best_model, best_score))\n",
        "\n",
        "# Find the best polynomial degree.\n",
        "best_degree, best_model, best_score = min(best_models, key=lambda x: x[2])\n",
        "\n",
        "print(f\"Best polynomial degree: {best_degree}\")\n",
        "print(f\"Validation MSE: {best_score}\")\n"
      ]
    },
    {
      "cell_type": "markdown",
      "metadata": {
        "id": "cI6eyje11Bku"
      },
      "source": [
        "These results include: MSE, MAE, and R² metrics to evaluate validation performance."
      ]
    },
    {
      "cell_type": "markdown",
      "metadata": {
        "id": "CmiK7cKG8jG5"
      },
      "source": [
        "# 6. **Model Evaluation on Test Set**."
      ]
    },
    {
      "cell_type": "markdown",
      "metadata": {
        "id": "4d9VFsLD8o78"
      },
      "source": [
        "In this section, we evaluate the best-performing model from the validation stage on the test dataset. The goal is to assess the model's generalization performance on unseen data. Key metrics such as Mean Squared Error (MSE), Mean Absolute Error (MAE), and R-squared (R^2) are computed to provide a final evaluation of the model's performance. This ensures that the model's predictive capability is robust and not overfitted to the training or validation data."
      ]
    },
    {
      "cell_type": "code",
      "execution_count": 112,
      "metadata": {
        "id": "2n8avdqB9W49",
        "colab": {
          "base_uri": "https://localhost:8080/"
        },
        "outputId": "096a7795-6d89-4365-ab2b-234c0d016fb3"
      },
      "outputs": [
        {
          "output_type": "stream",
          "name": "stdout",
          "text": [
            "Test Set Performance:\n",
            "Mean Squared Error (MSE): 0.33120542320726853\n",
            "Mean Absolute Error (MAE): 0.44037320749469966\n",
            "R-squared (R²): 0.6534440299861966\n"
          ]
        }
      ],
      "source": [
        "# 1. Evaluate the best model on the test set.\n",
        "y_test_pred = best_ridge_model.predict(X_test)  # Replace `best_ridge_model` with the best model you selected\n",
        "\n",
        "# 2. Compute evaluation metrics on the test set.\n",
        "test_mse = mean_squared_error(y_test, y_test_pred)\n",
        "test_mae = mean_absolute_error(y_test, y_test_pred)\n",
        "test_r2 = r2_score(y_test, y_test_pred)\n",
        "\n",
        "# 3. Print evaluation results.\n",
        "print(\"Test Set Performance:\")\n",
        "print(f\"Mean Squared Error (MSE): {test_mse}\")\n",
        "print(f\"Mean Absolute Error (MAE): {test_mae}\")\n",
        "print(f\"R-squared (R²): {test_r2}\")"
      ]
    },
    {
      "cell_type": "markdown",
      "source": [
        "***THANK YOU!***"
      ],
      "metadata": {
        "id": "FIrL839CpHVY"
      }
    }
  ],
  "metadata": {
    "colab": {
      "collapsed_sections": [
        "tuNNMKfOZLT3",
        "3wLDQdDy5o25",
        "_RTdxbNsfL6L",
        "LJw8_iAHfXt3",
        "XSbWlTkYy7BD",
        "HU1Gwel3zDfe",
        "YVH45a8Zq056",
        "mL_OAM5Ma-lH",
        "X_6UXkZ9udtk",
        "ConhYpgli--Y",
        "K3MaLE-WkEWR",
        "9TEZF48quycH",
        "iAUqLbhuxzIa",
        "b9wYe5pFjRa3",
        "5JV_dyGCjfwq",
        "4EHLgmFwisPR",
        "cftlfaXobDBt",
        "FNXZV-0mbSdn",
        "x3NEMVcmbX6p"
      ],
      "provenance": []
    },
    "kernelspec": {
      "display_name": "Python 3",
      "name": "python3"
    },
    "language_info": {
      "name": "python"
    }
  },
  "nbformat": 4,
  "nbformat_minor": 0
}